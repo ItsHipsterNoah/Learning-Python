{
 "metadata": {
  "language_info": {
   "codemirror_mode": {
    "name": "ipython",
    "version": 3
   },
   "file_extension": ".py",
   "mimetype": "text/x-python",
   "name": "python",
   "nbconvert_exporter": "python",
   "pygments_lexer": "ipython3",
   "version": "3.9.0-final"
  },
  "orig_nbformat": 2,
  "kernelspec": {
   "name": "Python 3.9.0 64-bit",
   "display_name": "Python 3.9.0 64-bit",
   "metadata": {
    "interpreter": {
     "hash": "aee8b7b246df8f9039afb4144a1f6fd8d2ca17a180786b69acc140d282b71a49"
    }
   }
  }
 },
 "nbformat": 4,
 "nbformat_minor": 2,
 "cells": [
  {
   "source": [
    "# The Game of War\n",
    "\n",
    "## The Card Class"
   ],
   "cell_type": "markdown",
   "metadata": {}
  },
  {
   "cell_type": "code",
   "execution_count": 65,
   "metadata": {},
   "outputs": [],
   "source": [
    "import random\n",
    "suits = ('Hearts', 'Diamonds', 'Spades', 'Clubs')\n",
    "ranks = ('Two', 'Three', 'Four', 'Five', 'Six', 'Seven', 'Eight', 'Nine', 'Ten', 'Jack', 'Queen', 'King', 'Ace')\n",
    "values = {'Two':2, 'Three':3, 'Four':4, 'Five':5, 'Six':6, 'Seven':7, 'Eight':8, \n",
    "            'Nine':9, 'Ten':10, 'Jack':11, 'Queen':12, 'King':13, 'Ace':14}"
   ]
  },
  {
   "cell_type": "code",
   "execution_count": 66,
   "metadata": {},
   "outputs": [],
   "source": [
    "class Card:\n",
    "    def __init__(self, suit, rank):\n",
    "        self.suit = suit\n",
    "        self.rank = rank\n",
    "        self.value = values[rank]\n",
    "    def __str__(self):\n",
    "        return self.rank + \" of \" + self.suit"
   ]
  },
  {
   "cell_type": "code",
   "execution_count": 67,
   "metadata": {},
   "outputs": [],
   "source": [
    "two_of_hearts = Card(\"Hearts\", \"Two\")"
   ]
  },
  {
   "cell_type": "code",
   "execution_count": 68,
   "metadata": {},
   "outputs": [
    {
     "output_type": "execute_result",
     "data": {
      "text/plain": [
       "<__main__.Card at 0x7f8ddef27910>"
      ]
     },
     "metadata": {},
     "execution_count": 68
    }
   ],
   "source": [
    "two_of_hearts"
   ]
  },
  {
   "cell_type": "code",
   "execution_count": 69,
   "metadata": {},
   "outputs": [
    {
     "output_type": "stream",
     "name": "stdout",
     "text": [
      "Two of Hearts\n"
     ]
    }
   ],
   "source": [
    "print(two_of_hearts)"
   ]
  },
  {
   "cell_type": "code",
   "execution_count": 70,
   "metadata": {},
   "outputs": [
    {
     "output_type": "execute_result",
     "data": {
      "text/plain": [
       "'Hearts'"
      ]
     },
     "metadata": {},
     "execution_count": 70
    }
   ],
   "source": [
    "two_of_hearts.suit"
   ]
  },
  {
   "cell_type": "code",
   "execution_count": 71,
   "metadata": {},
   "outputs": [
    {
     "output_type": "execute_result",
     "data": {
      "text/plain": [
       "'Two'"
      ]
     },
     "metadata": {},
     "execution_count": 71
    }
   ],
   "source": [
    "two_of_hearts.rank"
   ]
  },
  {
   "cell_type": "code",
   "execution_count": 72,
   "metadata": {},
   "outputs": [
    {
     "output_type": "execute_result",
     "data": {
      "text/plain": [
       "2"
      ]
     },
     "metadata": {},
     "execution_count": 72
    }
   ],
   "source": [
    "values[two_of_hearts.rank]"
   ]
  },
  {
   "cell_type": "code",
   "execution_count": 73,
   "metadata": {},
   "outputs": [],
   "source": [
    "three_of_clubs = Card(\"Three\", \"Three\")"
   ]
  },
  {
   "cell_type": "code",
   "execution_count": 74,
   "metadata": {},
   "outputs": [
    {
     "output_type": "execute_result",
     "data": {
      "text/plain": [
       "3"
      ]
     },
     "metadata": {},
     "execution_count": 74
    }
   ],
   "source": [
    "three_of_clubs.value"
   ]
  },
  {
   "cell_type": "code",
   "execution_count": 75,
   "metadata": {},
   "outputs": [
    {
     "output_type": "execute_result",
     "data": {
      "text/plain": [
       "True"
      ]
     },
     "metadata": {},
     "execution_count": 75
    }
   ],
   "source": [
    "two_of_hearts.value < three_of_clubs.value"
   ]
  },
  {
   "source": [
    "## The Deck Class"
   ],
   "cell_type": "markdown",
   "metadata": {}
  },
  {
   "cell_type": "code",
   "execution_count": 76,
   "metadata": {},
   "outputs": [],
   "source": [
    "class Deck:\n",
    "    def __init__(self):\n",
    "        self.all_cards = []\n",
    "        for suit in suits:\n",
    "            for rank in ranks:\n",
    "                created_card = Card(suit, rank)\n",
    "                self.all_cards.append(created_card)\n",
    "    def shuffle_deck(self):\n",
    "        random.shuffle(self.all_cards)\n",
    "    def deal_one(self):\n",
    "        return self.all_cards.pop()"
   ]
  },
  {
   "cell_type": "code",
   "execution_count": 77,
   "metadata": {},
   "outputs": [],
   "source": [
    "new_deck = Deck()"
   ]
  },
  {
   "cell_type": "code",
   "execution_count": 78,
   "metadata": {},
   "outputs": [
    {
     "output_type": "execute_result",
     "data": {
      "text/plain": [
       "[<__main__.Card at 0x7f8ddf255e80>,\n",
       " <__main__.Card at 0x7f8ddf255eb0>,\n",
       " <__main__.Card at 0x7f8ddf255550>,\n",
       " <__main__.Card at 0x7f8ddf255970>,\n",
       " <__main__.Card at 0x7f8ddf255cd0>,\n",
       " <__main__.Card at 0x7f8ddf255ac0>,\n",
       " <__main__.Card at 0x7f8ddf255580>,\n",
       " <__main__.Card at 0x7f8ddf255be0>,\n",
       " <__main__.Card at 0x7f8ddf255310>,\n",
       " <__main__.Card at 0x7f8ddf255400>,\n",
       " <__main__.Card at 0x7f8ddf2558e0>,\n",
       " <__main__.Card at 0x7f8ddf2554c0>,\n",
       " <__main__.Card at 0x7f8ddf255d90>,\n",
       " <__main__.Card at 0x7f8ddf255520>,\n",
       " <__main__.Card at 0x7f8ddf2556d0>,\n",
       " <__main__.Card at 0x7f8ddf2551f0>,\n",
       " <__main__.Card at 0x7f8ddf255160>,\n",
       " <__main__.Card at 0x7f8ddf255bb0>,\n",
       " <__main__.Card at 0x7f8ddf255490>,\n",
       " <__main__.Card at 0x7f8ddf255c70>,\n",
       " <__main__.Card at 0x7f8de0067550>,\n",
       " <__main__.Card at 0x7f8de0067d90>,\n",
       " <__main__.Card at 0x7f8de0067820>,\n",
       " <__main__.Card at 0x7f8de0067be0>,\n",
       " <__main__.Card at 0x7f8de0067910>,\n",
       " <__main__.Card at 0x7f8de0067040>,\n",
       " <__main__.Card at 0x7f8de0067670>,\n",
       " <__main__.Card at 0x7f8de0067df0>,\n",
       " <__main__.Card at 0x7f8de0067160>,\n",
       " <__main__.Card at 0x7f8ddf4b59a0>,\n",
       " <__main__.Card at 0x7f8ddf4b5c40>,\n",
       " <__main__.Card at 0x7f8ddf4b58b0>,\n",
       " <__main__.Card at 0x7f8ddf4b5820>,\n",
       " <__main__.Card at 0x7f8ddf4b54f0>,\n",
       " <__main__.Card at 0x7f8ddf4b5b20>,\n",
       " <__main__.Card at 0x7f8ddf4b5bb0>,\n",
       " <__main__.Card at 0x7f8ddf4b5580>,\n",
       " <__main__.Card at 0x7f8ddf4b54c0>,\n",
       " <__main__.Card at 0x7f8ddffabdc0>,\n",
       " <__main__.Card at 0x7f8ddffabd60>,\n",
       " <__main__.Card at 0x7f8ddffab070>,\n",
       " <__main__.Card at 0x7f8ddffabe20>,\n",
       " <__main__.Card at 0x7f8ddfc86e50>,\n",
       " <__main__.Card at 0x7f8ddfc865e0>,\n",
       " <__main__.Card at 0x7f8ddfc86430>,\n",
       " <__main__.Card at 0x7f8ddfc86160>,\n",
       " <__main__.Card at 0x7f8ddfc86a90>,\n",
       " <__main__.Card at 0x7f8ddfc86b50>,\n",
       " <__main__.Card at 0x7f8ddf4f6790>,\n",
       " <__main__.Card at 0x7f8ddf4f6400>,\n",
       " <__main__.Card at 0x7f8ddf4f6880>,\n",
       " <__main__.Card at 0x7f8ddf4f6f10>]"
      ]
     },
     "metadata": {},
     "execution_count": 78
    }
   ],
   "source": [
    "new_deck.all_cards"
   ]
  },
  {
   "cell_type": "code",
   "execution_count": 79,
   "metadata": {},
   "outputs": [
    {
     "output_type": "stream",
     "name": "stdout",
     "text": [
      "Two of Hearts\nThree of Hearts\nFour of Hearts\nFive of Hearts\nSix of Hearts\nSeven of Hearts\nEight of Hearts\nNine of Hearts\nTen of Hearts\nJack of Hearts\nQueen of Hearts\nKing of Hearts\nAce of Hearts\nTwo of Diamonds\nThree of Diamonds\nFour of Diamonds\nFive of Diamonds\nSix of Diamonds\nSeven of Diamonds\nEight of Diamonds\nNine of Diamonds\nTen of Diamonds\nJack of Diamonds\nQueen of Diamonds\nKing of Diamonds\nAce of Diamonds\nTwo of Spades\nThree of Spades\nFour of Spades\nFive of Spades\nSix of Spades\nSeven of Spades\nEight of Spades\nNine of Spades\nTen of Spades\nJack of Spades\nQueen of Spades\nKing of Spades\nAce of Spades\nTwo of Clubs\nThree of Clubs\nFour of Clubs\nFive of Clubs\nSix of Clubs\nSeven of Clubs\nEight of Clubs\nNine of Clubs\nTen of Clubs\nJack of Clubs\nQueen of Clubs\nKing of Clubs\nAce of Clubs\n"
     ]
    }
   ],
   "source": [
    "for card in new_deck.all_cards:\n",
    "    print(card)"
   ]
  },
  {
   "cell_type": "code",
   "execution_count": 80,
   "metadata": {},
   "outputs": [
    {
     "output_type": "stream",
     "name": "stdout",
     "text": [
      "Two of Clubs\nJack of Clubs\nKing of Diamonds\nTwo of Diamonds\nSix of Hearts\nKing of Clubs\nFour of Hearts\nEight of Clubs\nKing of Hearts\nAce of Clubs\nSix of Spades\nThree of Hearts\nTen of Diamonds\nSeven of Clubs\nNine of Clubs\nAce of Spades\nQueen of Diamonds\nThree of Diamonds\nEight of Hearts\nQueen of Hearts\nJack of Spades\nQueen of Spades\nEight of Spades\nTwo of Spades\nTen of Hearts\nTen of Clubs\nAce of Diamonds\nSix of Diamonds\nJack of Diamonds\nSeven of Diamonds\nFive of Clubs\nNine of Diamonds\nFive of Spades\nNine of Spades\nKing of Spades\nEight of Diamonds\nThree of Spades\nNine of Hearts\nFour of Spades\nAce of Hearts\nSeven of Spades\nJack of Hearts\nThree of Clubs\nTen of Spades\nFour of Diamonds\nSix of Clubs\nSeven of Hearts\nFive of Diamonds\nQueen of Clubs\nFive of Hearts\nFour of Clubs\nTwo of Hearts\n"
     ]
    }
   ],
   "source": [
    "new_deck.shuffle_deck()\n",
    "for card in new_deck.all_cards:\n",
    "    print(card)"
   ]
  },
  {
   "source": [
    "## The Player Class"
   ],
   "cell_type": "markdown",
   "metadata": {}
  },
  {
   "cell_type": "code",
   "execution_count": 81,
   "metadata": {},
   "outputs": [],
   "source": [
    "class Player:\n",
    "    def __init__(self, name):\n",
    "        self.name = name\n",
    "        self.all_cards = []\n",
    "    def remove_one(self):\n",
    "        return self.all_cards.pop(0)\n",
    "    def add_cards(self, new_cards):\n",
    "        if type(new_cards) == type([]):\n",
    "            self.all_cards.extend(new_cards)\n",
    "        else:\n",
    "            self.all_cards.append(new_cards)\n",
    "    def __str__(self):\n",
    "        return f\"Player {self.name} has {len(self.all_cards)} cards.\""
   ]
  },
  {
   "cell_type": "code",
   "execution_count": 82,
   "metadata": {},
   "outputs": [],
   "source": [
    "new_player = Player(\"Jaclyn\")"
   ]
  },
  {
   "cell_type": "code",
   "execution_count": 83,
   "metadata": {},
   "outputs": [
    {
     "output_type": "stream",
     "name": "stdout",
     "text": [
      "Player Jaclyn has 0 cards.\n"
     ]
    }
   ],
   "source": [
    "print(new_player)"
   ]
  },
  {
   "source": [
    "# The Game Logic"
   ],
   "cell_type": "markdown",
   "metadata": {}
  },
  {
   "cell_type": "code",
   "execution_count": 91,
   "metadata": {},
   "outputs": [],
   "source": [
    "player_one = Player(\"One\")\n",
    "player_two = Player(\"Two\")\n",
    "\n",
    "new_deck = Deck()\n",
    "new_deck.shuffle_deck()\n",
    "\n",
    "# Deal out the cards to each player\n",
    "for x in range(26):\n",
    "    player_one.add_cards(new_deck.deal_one())\n",
    "    player_two.add_cards(new_deck.deal_one())\n",
    "\n",
    "game_on = True"
   ]
  },
  {
   "cell_type": "code",
   "execution_count": 92,
   "metadata": {},
   "outputs": [
    {
     "output_type": "stream",
     "name": "stdout",
     "text": [
      "Round 1\nRound 2\nRound 3\nWAR!\nRound 4\nRound 5\nRound 6\nRound 7\nRound 8\nRound 9\nRound 10\nRound 11\nRound 12\nRound 13\nRound 14\nRound 15\nRound 16\nRound 17\nRound 18\nWAR!\nRound 19\nWAR!\nRound 20\nRound 21\nRound 22\nRound 23\nRound 24\nWAR!\nPlayer Two unable to declare war.\nPlayer One Wins!\n"
     ]
    }
   ],
   "source": [
    "round_num = 0\n",
    "while game_on:\n",
    "    round_num += 1\n",
    "    print(f\"Round {round_num}\")\n",
    "    if len(player_one.all_cards) == 0:\n",
    "        print(\"Player One, out of card! Player Two Wins!\")\n",
    "        break\n",
    "    if len(player_two.all_cards) == 0:\n",
    "        print(\"Player Two, out of card! Player One Wins!\")\n",
    "        break\n",
    "    # Start a new round\n",
    "    player_one_cards = [] # Cards on the table (cards in play)\n",
    "    player_one_cards.append(player_one.remove_one())\n",
    "\n",
    "    player_two_cards = [] # Cards on the table (cards in play)\n",
    "    player_two_cards.append(player_two.remove_one())\n",
    "\n",
    "    at_war = True\n",
    "\n",
    "    while at_war:\n",
    "        if player_one_cards[-1].value > player_two_cards[-1].value:\n",
    "            player_one.add_cards(player_one_cards)\n",
    "            player_one.add_cards(player_two_cards) \n",
    "            at_war = False\n",
    "        elif player_one_cards[-1].value < player_two_cards[-1].value:\n",
    "            player_two.add_cards(player_one_cards)\n",
    "            player_two.add_cards(player_two_cards) \n",
    "            at_war = False   \n",
    "        else:\n",
    "            print(\"WAR!\")  \n",
    "            if len(player_one.all_cards) < 5:\n",
    "                print(\"Player One unable to declare war.\")\n",
    "                print(\"Player Two Wins!\")\n",
    "                game_on = False\n",
    "                break\n",
    "            if len(player_two.all_cards) < 5:\n",
    "                print(\"Player Two unable to declare war.\")\n",
    "                print(\"Player One Wins!\")\n",
    "                game_on = False\n",
    "                break\n",
    "            for num in range(5):\n",
    "                player_one_cards.append(player_one.remove_one())\n",
    "                player_two_cards.append(player_two.remove_one())"
   ]
  },
  {
   "cell_type": "code",
   "execution_count": null,
   "metadata": {},
   "outputs": [],
   "source": []
  },
  {
   "cell_type": "code",
   "execution_count": null,
   "metadata": {},
   "outputs": [],
   "source": []
  }
 ]
}