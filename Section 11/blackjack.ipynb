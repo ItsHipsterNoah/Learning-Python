{
 "metadata": {
  "language_info": {
   "codemirror_mode": {
    "name": "ipython",
    "version": 3
   },
   "file_extension": ".py",
   "mimetype": "text/x-python",
   "name": "python",
   "nbconvert_exporter": "python",
   "pygments_lexer": "ipython3",
   "version": "3.9.0-final"
  },
  "orig_nbformat": 2,
  "kernelspec": {
   "name": "Python 3.9.0 64-bit",
   "display_name": "Python 3.9.0 64-bit",
   "metadata": {
    "interpreter": {
     "hash": "aee8b7b246df8f9039afb4144a1f6fd8d2ca17a180786b69acc140d282b71a49"
    }
   }
  }
 },
 "nbformat": 4,
 "nbformat_minor": 2,
 "cells": [
  {
   "source": [
    "# Blackjack"
   ],
   "cell_type": "markdown",
   "metadata": {}
  },
  {
   "source": [
    "## The Card class"
   ],
   "cell_type": "markdown",
   "metadata": {}
  },
  {
   "cell_type": "code",
   "execution_count": 291,
   "metadata": {},
   "outputs": [],
   "source": [
    "import random\n",
    "suits = ('Hearts', 'Diamonds', 'Spades', 'Clubs')\n",
    "ranks = ('Two', 'Three', 'Four', 'Five', 'Six', 'Seven', 'Eight', 'Nine', 'Ten', 'Jack', 'Queen', 'King', 'Ace')\n",
    "values = {'Two':2, 'Three':3, 'Four':4, 'Five':5, 'Six':6, 'Seven':7, 'Eight':8, \n",
    "            'Nine':9, 'Ten':10, 'Jack':10, 'Queen':10, 'King':10, 'Ace':1}"
   ]
  },
  {
   "cell_type": "code",
   "execution_count": 292,
   "metadata": {},
   "outputs": [],
   "source": [
    "class Card:\n",
    "    def __init__(self, suit, rank):\n",
    "        self.suit = suit\n",
    "        self.rank = rank\n",
    "        self.value = values[rank]\n",
    "    def __str__(self):\n",
    "        return f\"{self.rank} of {self.suit}\""
   ]
  },
  {
   "source": [
    "## The Deck Class"
   ],
   "cell_type": "markdown",
   "metadata": {}
  },
  {
   "cell_type": "code",
   "execution_count": 293,
   "metadata": {},
   "outputs": [],
   "source": [
    "class Deck:\n",
    "    def __init__(self):\n",
    "        self.all_cards = []\n",
    "        for suit in suits:\n",
    "            for rank in ranks:\n",
    "                created_card = Card(suit, rank)\n",
    "                self.all_cards.append(created_card)\n",
    "    def shuffle_deck(self):\n",
    "        random.shuffle(self.all_cards)\n",
    "    def deal_one(self):\n",
    "        return self.all_cards.pop()"
   ]
  },
  {
   "source": [
    "## The Dealer Class"
   ],
   "cell_type": "markdown",
   "metadata": {}
  },
  {
   "cell_type": "code",
   "execution_count": 294,
   "metadata": {},
   "outputs": [],
   "source": [
    "class Dealer:\n",
    "    def __init__(self, bankroll):\n",
    "        self.hand = []\n",
    "        self.bankroll = bankroll\n",
    "        self.sum = 0\n",
    "    def add_to_bankroll(self, value):\n",
    "        self.bankroll += value\n",
    "    def add_to_hand(self, card):\n",
    "        self.hand.append(card)\n",
    "    def get_sum(self, ace=0):\n",
    "        self.sum = 0\n",
    "        for card in self.hand:\n",
    "            self.sum += card.value\n",
    "        return self.sum + ace\n",
    "    def show_hand(self):\n",
    "        print(self.hand[0])\n",
    "    def show_all_hand(self):\n",
    "        for card in self.hand:\n",
    "            print(card)"
   ]
  },
  {
   "source": [
    "## The Player Class"
   ],
   "cell_type": "markdown",
   "metadata": {}
  },
  {
   "cell_type": "code",
   "execution_count": 295,
   "metadata": {},
   "outputs": [],
   "source": [
    "class Player:\n",
    "    def __init__(self, bankroll):\n",
    "        self.bankroll = bankroll\n",
    "        self.hand = []\n",
    "        self.sum = 0\n",
    "    def bet(self):\n",
    "        bet = input(\"How much would you like to bet?\")\n",
    "        return bet\n",
    "    def add_to_hand(self, card):\n",
    "        self.hand.append(card)\n",
    "    def show_hand(self):\n",
    "        for card in self.hand:\n",
    "            print(card)\n",
    "    def get_sum(self, value=0):\n",
    "        self.sum = 0\n",
    "        for card in self.hand:\n",
    "                self.sum += card.value\n",
    "        return self.sum + value\n",
    "    def has_aces(self):\n",
    "        for card in self.hand:\n",
    "            if card.rank == \"Ace\":\n",
    "                return True"
   ]
  },
  {
   "cell_type": "code",
   "execution_count": 296,
   "metadata": {},
   "outputs": [],
   "source": [
    "game_on = True"
   ]
  },
  {
   "cell_type": "code",
   "execution_count": 297,
   "metadata": {
    "tags": []
   },
   "outputs": [
    {
     "output_type": "stream",
     "name": "stdout",
     "text": [
      "Dealer has a:\n",
      "Three of Clubs\n",
      "\n",
      "Player has the following cards: \n",
      "Jack of Hearts\n",
      "Queen of Clubs\n",
      "\n",
      "Player sum is 20\n",
      "Dealer has a:\n",
      "Three of Clubs\n",
      "Dealer loses!\n",
      "Three of Clubs\n",
      "Ten of Spades\n",
      "King of Diamonds\n",
      "23\n"
     ]
    }
   ],
   "source": [
    "dealer = Dealer(0)\n",
    "player = Player(100)\n",
    "deck = Deck()\n",
    "\n",
    "deck.shuffle_deck()\n",
    "\n",
    "# Give player and dealer a card\n",
    "dealer.add_to_hand(deck.all_cards.pop(0))\n",
    "dealer.add_to_hand(deck.all_cards.pop(0))\n",
    "player.add_to_hand(deck.all_cards.pop(0))\n",
    "player.add_to_hand(deck.all_cards.pop(0))\n",
    "\n",
    "if player.has_aces():\n",
    "    response = input(\"You have one or more aces! Is its value 1 or 11?\")\n",
    "    if int(response) == 1:\n",
    "        player.get_sum(1)\n",
    "    else:\n",
    "        player.get_sum(11)\n",
    "\n",
    "while game_on:\n",
    "    print(\"Dealer has a:\")\n",
    "    dealer.show_hand()\n",
    "    print(\"\")\n",
    "    print(\"Player has the following cards: \")\n",
    "    player.show_hand()\n",
    "    print(\"\")\n",
    "    print(f\"Player sum is {player.get_sum()}\")\n",
    "    hit = True\n",
    "    while hit:\n",
    "        response = input(\"Hit or stay?\")\n",
    "        if response == \"Hit\" or response == \"hit\":\n",
    "            next_card = deck.all_cards.pop(0)\n",
    "            if next_card.rank == \"Ace\":\n",
    "                response = input(f\"You have an ace in your hand! Would you like it to be a 1 or an 11?\\nYour current sum is {sum}.\")\n",
    "                if int(response) == 1:\n",
    "                    player.get_sum(1)\n",
    "                if int(response) == 11:\n",
    "                    player.get_sum(11)\n",
    "            else:\n",
    "                player.add_to_hand(next_card)\n",
    "                print(\"Player has the following cards: \")\n",
    "                player.show_hand()\n",
    "                print(\"\")\n",
    "                print(f\"Player sum is {player.get_sum()}\")\n",
    "\n",
    "                if player.get_sum() >= 21 or dealer.get_sum() > player.get_sum():\n",
    "                    game_on = False\n",
    "                    print(\"Player loses!\")\n",
    "                    print(\"Dealer hand: \")\n",
    "                    dealer.show_all_hand()\n",
    "                    break\n",
    "        else:\n",
    "            hit = False\n",
    "            break\n",
    "    while (dealer.get_sum() < 21 and dealer.get_sum() < player.get_sum()) and game_on:\n",
    "        next_card = deck.all_cards.pop(0)\n",
    "        if next_card.rank == 'Ace':\n",
    "            if dealer.get_sum()+11 > 21:\n",
    "                dealer.add_to_hand(next_card)\n",
    "                dealer.get_sum(1)\n",
    "            else:\n",
    "                dealer.add_to_hand(next_card)\n",
    "                dealer.get_sum(11)\n",
    "        else:\n",
    "            dealer.add_to_hand(next_card)\n",
    "    print(\"Dealer has a:\")\n",
    "    dealer.show_hand()\n",
    "    if dealer.get_sum() >= 21:\n",
    "        print(\"Dealer loses!\")\n",
    "        dealer.show_all_hand()\n",
    "        print(dealer.get_sum())\n",
    "        game_on = False\n",
    "        break"
   ]
  },
  {
   "cell_type": "code",
   "execution_count": 298,
   "metadata": {},
   "outputs": [
    {
     "output_type": "execute_result",
     "data": {
      "text/plain": [
       "False"
      ]
     },
     "metadata": {},
     "execution_count": 298
    }
   ],
   "source": [
    "hit"
   ]
  },
  {
   "cell_type": "code",
   "execution_count": null,
   "metadata": {},
   "outputs": [],
   "source": []
  }
 ]
}