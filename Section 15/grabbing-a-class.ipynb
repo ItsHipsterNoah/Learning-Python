{
 "metadata": {
  "language_info": {
   "codemirror_mode": {
    "name": "ipython",
    "version": 3
   },
   "file_extension": ".py",
   "mimetype": "text/x-python",
   "name": "python",
   "nbconvert_exporter": "python",
   "pygments_lexer": "ipython3",
   "version": "3.9.0-final"
  },
  "orig_nbformat": 2,
  "kernelspec": {
   "name": "python3",
   "display_name": "Python 3.9.0 64-bit",
   "metadata": {
    "interpreter": {
     "hash": "aee8b7b246df8f9039afb4144a1f6fd8d2ca17a180786b69acc140d282b71a49"
    }
   }
  }
 },
 "nbformat": 4,
 "nbformat_minor": 2,
 "cells": [
  {
   "cell_type": "code",
   "execution_count": 1,
   "metadata": {},
   "outputs": [],
   "source": [
    "import requests"
   ]
  },
  {
   "cell_type": "code",
   "execution_count": 2,
   "metadata": {},
   "outputs": [],
   "source": [
    "import bs4"
   ]
  },
  {
   "cell_type": "code",
   "execution_count": 3,
   "metadata": {},
   "outputs": [],
   "source": [
    "res = requests.get(\"https://en.wikipedia.org/wiki/Grace_Hopper\")"
   ]
  },
  {
   "cell_type": "code",
   "execution_count": 4,
   "metadata": {},
   "outputs": [],
   "source": [
    "soup = bs4.BeautifulSoup(res.text, 'lxml')"
   ]
  },
  {
   "cell_type": "code",
   "execution_count": 5,
   "metadata": {},
   "outputs": [
    {
     "output_type": "execute_result",
     "data": {
      "text/plain": [
       "S selector, it is deprecated. -->\n",
       "<nav aria-labelledby=\"p-lang-label\" class=\"mw-portlet mw-portlet-lang vector-menu vector-menu-portal portal\" id=\"p-lang\" role=\"navigation\">\n",
       "<h3 id=\"p-lang-label\">\n",
       "<span>Languages</span>\n",
       "</h3>\n",
       "<div class=\"vector-menu-content\">\n",
       "<ul class=\"vector-menu-content-list\"><li class=\"interlanguage-link interwiki-af\"><a class=\"interlanguage-link-target\" href=\"https://af.wikipedia.org/wiki/Grace_Hopper\" hreflang=\"af\" lang=\"af\" title=\"Grace Hopper – Afrikaans\">Afrikaans</a></li><li class=\"interlanguage-link interwiki-ar\"><a class=\"interlanguage-link-target\" href=\"https://ar.wikipedia.org/wiki/%D8%AC%D8%B1%D9%8A%D8%B3_%D9%87%D9%88%D8%A8%D8%B1\" hreflang=\"ar\" lang=\"ar\" title=\"جريس هوبر – Arabic\">العربية</a></li><li class=\"interlanguage-link interwiki-ast\"><a class=\"interlanguage-link-target\" href=\"https://ast.wikipedia.org/wiki/Grace_Murray_Hopper\" hreflang=\"ast\" lang=\"ast\" title=\"Grace Murray Hopper – Asturian\">Asturianu</a></li><li class=\"interlanguage-link interwiki-az\"><a class=\"interlanguage-link-target\" href=\"https://az.wikipedia.org/wiki/Qreys_M%C3%BCrrey_Hopper\" hreflang=\"az\" lang=\"az\" title=\"Qreys Mürrey Hopper – Azerbaijani\">Azərbaycanca</a></li><li class=\"interlanguage-link interwiki-bn\"><a class=\"interlanguage-link-target\" href=\"https://bn.wikipedia.org/wiki/%E0%A6%97%E0%A7%8D%E0%A6%B0%E0%A7%87%E0%A6%B8_%E0%A6%B9%E0%A6%AA%E0%A6%BE%E0%A6%B0\" hreflang=\"bn\" lang=\"bn\" title=\"গ্রেস হপার – Bangla\">বাংলা</a></li><li class=\"interlanguage-link interwiki-zh-min-nan\"><a class=\"interlanguage-link-target\" href=\"https://zh-min-nan.wikipedia.org/wiki/Grace_Hopper\" hreflang=\"nan\" lang=\"nan\" title=\"Grace Hopper – Chinese (Min Nan)\">Bân-lâm-gú</a></li><li class=\"interlanguage-link interwiki-bcl\"><a class=\"interlanguage-link-target\" href=\"https://bcl.wikipedia.org/wiki/Grace_Hopper\" hreflang=\"bcl\" lang=\"bcl\" title=\"Grace Hopper – Central Bikol\">Bikol Central</a></li><li class=\"interlanguage-link interwiki-bg\"><a class=\"interlanguage-link-target\" href=\"https://bg.wikipedia.org/wiki/%D0%93%D1%80%D0%B5%D0%B9%D1%81_%D0%A5%D0%BE%D0%BF%D1%8A%D1%80\" hreflang=\"bg\" lang=\"bg\" title=\"Грейс Хопър – Bulgarian\">Български</a></li><li class=\"interlanguage-link interwiki-ca\"><a class=\"interlanguage-link-target\" href=\"https://ca.wikipedia.org/wiki/Grace_Hopper\" hreflang=\"ca\" lang=\"ca\" title=\"Grace Hopper – Catalan\">Català</a></li><li class=\"interlanguage-link interwiki-cs\"><a class=\"interlanguage-link-target\" href=\"https://cs.wikipedia.org/wiki/Grace_Hopperov%C3%A1\" hreflang=\"cs\" lang=\"cs\" title=\"Grace Hopperová – Czech\">Čeština</a></li><li class=\"interlanguage-link interwiki-cy\"><a class=\"interlanguage-link-target\" href=\"https://cy.wikipedia.org/wiki/Grace_Hopper\" hreflang=\"cy\" lang=\"cy\" title=\"Grace Hopper – Welsh\">Cymraeg</a></li><li class=\"interlanguage-link interwiki-da\"><a class=\"interlanguage-link-target\" href=\"https://da.wikipedia.org/wiki/Grace_Hopper\" hreflang=\"da\" lang=\"da\" title=\"Grace Hopper – Danish\">Dansk</a></li><li class=\"interlanguage-link interwiki-de\"><a class=\"interlanguage-link-target\" href=\"https://de.wikipedia.org/wiki/Grace_Hopper\" hreflang=\"de\" lang=\"de\" title=\"Grace Hopper – German\">Deutsch</a></li><li class=\"interlanguage-link interwiki-el\"><a class=\"interlanguage-link-target\" href=\"https://el.wikipedia.org/wiki/%CE%93%CE%BA%CF%81%CE%AD%CE%B9%CF%82_%CE%9C%CE%AC%CF%81%CE%B5%CF%8A_%CE%A7%CF%8C%CF%80%CE%B5%CF%81\" hreflang=\"el\" lang=\"el\" title=\"Γκρέις Μάρεϊ Χόπερ – Greek\">Ελληνικά</a></li><li class=\"interlanguage-link interwiki-es\"><a class=\"interlanguage-link-target\" href=\"https://es.wikipedia.org/wiki/Grace_Murray_Hopper\" hreflang=\"es\" lang=\"es\" title=\"Grace Murray Hopper – Spanish\">Español</a></li><li class=\"interlanguage-link interwiki-eu\"><a class=\"interlanguage-link-target\" href=\"https://eu.wikipedia.org/wiki/Grace_Hopper\" hreflang=\"eu\" lang=\"eu\" title=\"Grace Hopper – Basque\">Euskara</a></li><li class=\"interlanguage-link interwiki-fa\"><a class=\"interlanguage-link-target\" href=\"https://fa.wikipedia.org/wiki/%DA%AF%D8%B1%DB%8C%D8%B3_%D9%87%D8%A7%D9%BE%D8%B1\" hreflang=\"fa\" lang=\"fa\" title=\"گریس هاپر – Persian\">فارسی</a></li><li class=\"interlanguage-link interwiki-fr\"><a class=\"interlanguage-link-target\" href=\"https://fr.wikipedia.org/wiki/Grace_Hopper\" hreflang=\"fr\" lang=\"fr\" title=\"Grace Hopper – French\">Français</a></li><li class=\"interlanguage-link interwiki-ga\"><a class=\"interlanguage-link-target\" href=\"https://ga.wikipedia.org/wiki/Grace_Hopper\" hreflang=\"ga\" lang=\"ga\" title=\"Grace Hopper – Irish\">Gaeilge</a></li><li class=\"interlanguage-link interwiki-gl\"><a class=\"interlanguage-link-target\" href=\"https://gl.wikipedia.org/wiki/Grace_Hopper\" hreflang=\"gl\" lang=\"gl\" title=\"Grace Hopper – Galician\">Galego</a></li><li class=\"interlanguage-link interwiki-ko\"><a class=\"interlanguage-link-target\" href=\"https://ko.wikipedia.org/wiki/%EA%B7%B8%EB%A0%88%EC%9D%B4%EC%8A%A4_%ED%98%B8%ED%8D%BC\" hreflang=\"ko\" lang=\"ko\" title=\"그레이스 호퍼 – Korean\">한국어</a></li><li class=\"interlanguage-link interwiki-hy\"><a class=\"interlanguage-link-target\" href=\"https://hy.wikipedia.org/wiki/%D4%B3%D6%80%D5%A5%D5%B5%D5%BD_%D5%80%D5%B8%D6%83%D5%A5%D6%80\" hreflang=\"hy\" lang=\"hy\" title=\"Գրեյս Հոփեր – Armenian\">Հայերեն</a></li><li class=\"interlanguage-link interwiki-hi\"><a class=\"interlanguage-link-target\" href=\"https://hi.wikipedia.org/wiki/%E0%A4%97%E0%A5%8D%E0%A4%B0%E0%A5%87%E0%A4%B8_%E0%A4%B9%E0%A5%82%E0%A4%AA%E0%A4%B0\" hreflang=\"hi\" lang=\"hi\" title=\"ग्रेस हूपर – Hindi\">हिन्दी</a></li><li class=\"interlanguage-link interwiki-id\"><a class=\"interlanguage-link-target\" href=\"https://id.wikipedia.org/wiki/Grace_Hopper\" hreflang=\"id\" lang=\"id\" title=\"Grace Hopper – Indonesian\">Bahasa Indonesia</a></li><li class=\"interlanguage-link interwiki-is\"><a class=\"interlanguage-link-target\" href=\"https://is.wikipedia.org/wiki/Grace_Hopper\" hreflang=\"is\" lang=\"is\" title=\"Grace Hopper – Icelandic\">Íslenska</a></li><li class=\"interlanguage-link interwiki-it\"><a class=\"interlanguage-link-target\" href=\"https://it.wikipedia.org/wiki/Grace_Murray_Hopper\" hreflang=\"it\" lang=\"it\" title=\"Grace Murray Hopper – Italian\">Italiano</a></li><li class=\"interlanguage-link interwiki-he\"><a class=\"interlanguage-link-target\" href=\"https://he.wikipedia.org/wiki/%D7%92%D7%A8%D7%99%D7%99%D7%A1_%D7%94%D7%95%D7%A4%D7%A8\" hreflang=\"he\" lang=\"he\" title=\"גרייס הופר – Hebrew\">עברית</a></li><li class=\"interlanguage-link interwiki-kn\"><a class=\"interlanguage-link-target\" href=\"https://kn.wikipedia.org/wiki/%E0%B2%97%E0%B3%8D%E0%B2%B0%E0%B3%87%E0%B2%B8%E0%B3%8D_%E0%B2%AC%E0%B3%8D%E0%B2%B0%E0%B3%86%E0%B2%B5%E0%B3%8D%E0%B2%B8%E0%B3%8D%E0%B2%9F%E0%B2%B0%E0%B3%8D_%E0%B2%AE%E0%B3%81%E0%B2%B0%E0%B3%8D%E0%B2%B0%E0%B3%86_%E0%B2%B9%E0%B2%BE%E0%B2%AA%E0%B2%B0%E0%B3%8D\" hreflang=\"kn\" lang=\"kn\" title=\"ಗ್ರೇಸ್ ಬ್ರೆವ್ಸ್ಟರ್ ಮುರ್ರೆ ಹಾಪರ್ – Kannada\">ಕನ್ನಡ</a></li><li class=\"interlanguage-link interwiki-ka\"><a class=\"interlanguage-link-target\" href=\"https://ka.wikipedia.org/wiki/%E1%83%92%E1%83%A0%E1%83%94%E1%83%98%E1%83%A1_%E1%83%B0%E1%83%9D%E1%83%9E%E1%83%94%E1%83%A0%E1%83%98\" hreflang=\"ka\" lang=\"ka\" title=\"გრეის ჰოპერი – Georgian\">ქართული</a></li><li class=\"interlanguage-link interwiki-ht\"><a class=\"interlanguage-link-target\" href=\"https://ht.wikipedia.org/wiki/Grace_Hopper\" hreflang=\"ht\" lang=\"ht\" title=\"Grace Hopper – Haitian Creole\">Kreyòl ayisyen</a></li><li class=\"interlanguage-link interwiki-la\"><a class=\"interlanguage-link-target\" href=\"https://la.wikipedia.org/wiki/Gratia_Hopper\" hreflang=\"la\" lang=\"la\" title=\"Gratia Hopper – Latin\">Latina</a></li><li class=\"interlanguage-link interwiki-lv\"><a class=\"interlanguage-link-target\" href=\"https://lv.wikipedia.org/wiki/Greisa_Hopera\" hreflang=\"lv\" lang=\"lv\" title=\"Greisa Hopera – Latvian\">Latviešu</a></li><li class=\"interlanguage-link interwiki-lt\"><a class=\"interlanguage-link-target\" href=\"https://lt.wikipedia.org/wiki/Grace_Hopper\" hreflang=\"lt\" lang=\"lt\" title=\"Grace Hopper – Lithuanian\">Lietuvių</a></li><li class=\"interlanguage-link interwiki-hu\"><a class=\"interlanguage-link-target\" href=\"https://hu.wikipedia.org/wiki/Grace_Hopper\" hreflang=\"hu\" lang=\"hu\" title=\"Grace Hopper – Hungarian\">Magyar</a></li><li class=\"interlanguage-link interwiki-mai\"><a class=\"interlanguage-link-target\" href=\"https://mai.wikipedia.org/wiki/%E0%A4%97%E0%A5%8D%E0%A4%B0%E0%A5%87%E0%A4%B8_%E0%A4%B9%E0%A5%82%E0%A4%AA%E0%A4%B0\" hreflang=\"mai\" lang=\"mai\" title=\"ग्रेस हूपर – Maithili\">मैथिली</a></li><li class=\"interlanguage-link interwiki-mk\"><a class=\"interlanguage-link-target\" href=\"https://mk.wikipedia.org/wiki/%D0%93%D1%80%D0%B5%D1%98%D1%81_%D0%A5%D0%BE%D0%BF%D0%B5%D1%80\" hreflang=\"mk\" lang=\"mk\" title=\"Грејс Хопер – Macedonian\">Македонски</a></li><li class=\"interlanguage-link interwiki-ml\"><a class=\"interlanguage-link-target\" href=\"https://ml.wikipedia.org/wiki/%E0%B4%97%E0%B5%8D%E0%B4%B0%E0%B5%87%E0%B4%B8%E0%B5%8D_%E0%B4%AE%E0%B5%81%E0%B4%B1%E0%B5%87_%E0%B4%B9%E0%B5%8B%E0%B4%AA%E0%B5%8D%E0%B4%AA%E0%B5%BC\" hreflang=\"ml\" lang=\"ml\" title=\"ഗ്രേസ് മുറേ ഹോപ്പർ – Malayalam\">മലയാളം</a></li><li class=\"interlanguage-link interwiki-arz\"><a class=\"interlanguage-link-target\" href=\"https://arz.wikipedia.org/wiki/%D8%AC%D8%B1%D9%8A%D8%B3_%D9%87%D9%88%D8%A8%D8%B1\" hreflang=\"arz\" lang=\"arz\" title=\"جريس هوبر – Egyptian Arabic\">مصرى</a></li><li class=\"interlanguage-link interwiki-nl\"><a class=\"interlanguage-link-target\" href=\"https://nl.wikipedia.org/wiki/Grace_Hopper\" hreflang=\"nl\" lang=\"nl\" title=\"Grace Hopper – Dutch\">Nederlands</a></li><li class=\"interlanguage-link interwiki-ja\"><a class=\"interlanguage-link-target\" href=\"https://ja.wikipedia.org/wiki/%E3%82%B0%E3%83%AC%E3%83%BC%E3%82%B9%E3%83%BB%E3%83%9B%E3%83%83%E3%83%91%E3%83%BC\" hreflang=\"ja\" lang=\"ja\" title=\"グレース・ホッパー – Japanese\">日本語</a></li><li class=\"interlanguage-link interwiki-no\"><a class=\"interlanguage-link-target\" href=\"https://no.wikipedia.org/wiki/Grace_Hopper\" hreflang=\"nb\" lang=\"nb\" title=\"Grace Hopper – Norwegian Bokmål\">Norsk bokmål</a></li><li class=\"interlanguage-link interwiki-pnb\"><a class=\"interlanguage-link-target\" href=\"https://pnb.wikipedia.org/wiki/%DA%AF%D8%B1%DB%8C%D8%B3_%DB%81%D8%A7%D9%BE%D8%B1\" hreflang=\"pnb\" lang=\"pnb\" title=\"گریس ہاپر – Western Punjabi\">پنجابی</a></li><li class=\"interlanguage-link interwiki-pms\"><a class=\"interlanguage-link-target\" href=\"https://pms.wikipedia.org/wiki/Grace_Murray_Hopper\" hreflang=\"pms\" lang=\"pms\" title=\"Grace Murray Hopper – Piedmontese\">Piemontèis</a></li><li class=\"interlanguage-link interwiki-pl\"><a class=\"interlanguage-link-target\" href=\"https://pl.wikipedia.org/wiki/Grace_Hopper\" hreflang=\"pl\" lang=\"pl\" title=\"Grace Hopper – Polish\">Polski</a></li><li class=\"interlanguage-link interwiki-pt\"><a class=\"interlanguage-link-target\" href=\"https://pt.wikipedia.org/wiki/Grace_Hopper\" hreflang=\"pt\" lang=\"pt\" title=\"Grace Hopper – Portuguese\">Português</a></li><li class=\"interlanguage-link interwiki-ro\"><a class=\"interlanguage-link-target\" href=\"https://ro.wikipedia.org/wiki/Grace_Hopper\" hreflang=\"ro\" lang=\"ro\" title=\"Grace Hopper – Romanian\">Română</a></li><li class=\"interlanguage-link interwiki-ru\"><a class=\"interlanguage-link-target\" href=\"https://ru.wikipedia.org/wiki/%D0%A5%D0%BE%D0%BF%D0%BF%D0%B5%D1%80,_%D0%93%D1%80%D0%B5%D0%B9%D1%81\" hreflang=\"ru\" lang=\"ru\" title=\"Хоппер, Грейс – Russian\">Русский</a></li><li class=\"interlanguage-link interwiki-sco\"><a class=\"interlanguage-link-target\" href=\"https://sco.wikipedia.org/wiki/Grace_Hopper\" hreflang=\"sco\" lang=\"sco\" title=\"Grace Hopper – Scots\">Scots</a></li><li class=\"interlanguage-link interwiki-sq\"><a class=\"interlanguage-link-target\" href=\"https://sq.wikipedia.org/wiki/Grace_Hopper\" hreflang=\"sq\" lang=\"sq\" title=\"Grace Hopper – Albanian\">Shqip</a></li><li class=\"interlanguage-link interwiki-si\"><a class=\"interlanguage-link-target\" href=\"https://si.wikipedia.org/wiki/%E0%B6%9C%E0%B7%8A%E2%80%8D%E0%B6%BB%E0%B7%9A%E0%B7%83%E0%B7%8A_%E0%B7%84%E0%B7%9C%E0%B6%B4%E0%B6%BB%E0%B7%8A\" hreflang=\"si\" lang=\"si\" title=\"ග්‍රේස් හොපර් – Sinhala\">සිංහල</a></li><li class=\"interlanguage-link interwiki-simple\"><a class=\"interlanguage-link-target\" href=\"https://simple.wikipedia.org/wiki/Grace_Hopper\" hreflang=\"en-simple\" lang=\"en-simple\" title=\"Grace Hopper – Simple English\">Simple English</a></li><li class=\"interlanguage-link interwiki-sk\"><a class=\"interlanguage-link-target\" href=\"https://sk.wikipedia.org/wiki/Grace_Hopperov%C3%A1\" hreflang=\"sk\" lang=\"sk\" title=\"Grace Hopperová – Slovak\">Slovenčina</a></li><li class=\"interlanguage-link interwiki-sl\"><a class=\"interlanguage-link-target\" href=\"https://sl.wikipedia.org/wiki/Grace_Hopper\" hreflang=\"sl\" lang=\"sl\" title=\"Grace Hopper – Slovenian\">Slovenščina</a></li><li class=\"interlanguage-link interwiki-sr\"><a class=\"interlanguage-link-target\" href=\"https://sr.wikipedia.org/wiki/%D0%93%D1%80%D0%B5%D1%98%D1%81_%D0%A5%D0%BE%D0%BF%D0%B5%D1%80\" hreflang=\"sr\" lang=\"sr\" title=\"Грејс Хопер – Serbian\">Српски / srpski</a></li><li class=\"interlanguage-link interwiki-fi\"><a class=\"interlanguage-link-target\" href=\"https://fi.wikipedia.org/wiki/Grace_Hopper\" hreflang=\"fi\" lang=\"fi\" title=\"Grace Hopper – Finnish\">Suomi</a></li><li class=\"interlanguage-link interwiki-sv\"><a class=\"interlanguage-link-target\" href=\"https://sv.wikipedia.org/wiki/Grace_Hopper\" hreflang=\"sv\" lang=\"sv\" title=\"Grace Hopper – Swedish\">Svenska</a></li><li class=\"interlanguage-link interwiki-ta\"><a class=\"interlanguage-link-target\" href=\"https://ta.wikipedia.org/wiki/%E0%AE%95%E0%AE%BF%E0%AE%B0%E0%AF%87%E0%AE%9A%E0%AF%81_%E0%AE%B9%E0%AE%BE%E0%AE%AA%E0%AF%8D%E0%AE%AA%E0%AE%B0%E0%AF%8D\" hreflang=\"ta\" lang=\"ta\" title=\"கிரேசு ஹாப்பர் – Tamil\">தமிழ்</a></li><li class=\"interlanguage-link interwiki-tr\"><a class=\"interlanguage-link-target\" href=\"https://tr.wikipedia.org/wiki/Grace_Hopper\" hreflang=\"tr\" lang=\"tr\" title=\"Grace Hopper – Turkish\">Türkçe</a></li><li class=\"interlanguage-link interwiki-uk\"><a class=\"interlanguage-link-target\" href=\"https://uk.wikipedia.org/wiki/%D2%90%D1%80%D0%B5%D0%B9%D1%81_%D0%93%D0%BE%D0%BF%D0%BF%D0%B5%D1%80\" hreflang=\"uk\" lang=\"uk\" title=\"Ґрейс Гоппер – Ukrainian\">Українська</a></li><li class=\"interlanguage-link interwiki-vi\"><a class=\"interlanguage-link-target\" href=\"https://vi.wikipedia.org/wiki/Grace_Hopper\" hreflang=\"vi\" lang=\"vi\" title=\"Grace Hopper – Vietnamese\">Tiếng Việt</a></li><li class=\"interlanguage-link interwiki-wuu\"><a class=\"interlanguage-link-target\" href=\"https://wuu.wikipedia.org/wiki/%E6%A0%BC%E8%95%BE%E4%B8%9D%C2%B7%E8%B5%AB%E6%9F%8F\" hreflang=\"wuu\" lang=\"wuu\" title=\"格蕾丝·赫柏 – Wu Chinese\">吴语</a></li><li class=\"interlanguage-link interwiki-zh\"><a class=\"interlanguage-link-target\" href=\"https://zh.wikipedia.org/wiki/%E8%91%9B%E9%BA%97%E7%B5%B2%C2%B7%E9%9C%8D%E6%99%AE\" hreflang=\"zh\" lang=\"zh\" title=\"葛麗絲·霍普 – Chinese\">中文</a></li></ul>\n",
       "<div class=\"after-portlet after-portlet-lang\"><span class=\"wb-langlinks-edit wb-langlinks-link\"><a class=\"wbc-editpage\" href=\"https://www.wikidata.org/wiki/Special:EntityPage/Q11641#sitelinks-wikipedia\" title=\"Edit interlanguage links\">Edit links</a></span></div>\n",
       "</div>\n",
       "</nav>\n",
       "</div>\n",
       "</div>\n",
       "<footer class=\"mw-footer\" id=\"footer\" role=\"contentinfo\">\n",
       "<ul id=\"footer-info\">\n",
       "<li id=\"footer-info-lastmod\"> This page was last edited on 13 November 2020, at 21:09<span class=\"anonymous-show\"> (UTC)</span>.</li>\n",
       "<li id=\"footer-info-copyright\">Text is available under the <a href=\"//en.wikipedia.org/wiki/Wikipedia:Text_of_Creative_Commons_Attribution-ShareAlike_3.0_Unported_License\" rel=\"license\">Creative Commons Attribution-ShareAlike License</a><a href=\"//creativecommons.org/licenses/by-sa/3.0/\" rel=\"license\" style=\"display:none;\"></a>;\n",
       "additional terms may apply.  By using this site, you agree to the <a href=\"//foundation.wikimedia.org/wiki/Terms_of_Use\">Terms of Use</a> and <a href=\"//foundation.wikimedia.org/wiki/Privacy_policy\">Privacy Policy</a>. Wikipedia® is a registered trademark of the <a href=\"//www.wikimediafoundation.org/\">Wikimedia Foundation, Inc.</a>, a non-profit organization.</li>\n",
       "</ul>\n",
       "<ul id=\"footer-places\">\n",
       "<li id=\"footer-places-privacy\"><a class=\"extiw\" href=\"https://foundation.wikimedia.org/wiki/Privacy_policy\" title=\"wmf:Privacy policy\">Privacy policy</a></li>\n",
       "<li id=\"footer-places-about\"><a href=\"/wiki/Wikipedia:About\" title=\"Wikipedia:About\">About Wikipedia</a></li>\n",
       "<li id=\"footer-places-disclaimer\"><a href=\"/wiki/Wikipedia:General_disclaimer\" title=\"Wikipedia:General disclaimer\">Disclaimers</a></li>\n",
       "<li id=\"footer-places-contact\"><a href=\"//en.wikipedia.org/wiki/Wikipedia:Contact_us\">Contact Wikipedia</a></li>\n",
       "<li id=\"footer-places-mobileview\"><a class=\"noprint stopMobileRedirectToggle\" href=\"//en.m.wikipedia.org/w/index.php?title=Grace_Hopper&amp;mobileaction=toggle_view_mobile\">Mobile view</a></li>\n",
       "<li id=\"footer-places-developers\"><a href=\"https://www.mediawiki.org/wiki/Special:MyLanguage/How_to_contribute\">Developers</a></li>\n",
       "<li id=\"footer-places-statslink\"><a href=\"https://stats.wikimedia.org/#/en.wikipedia.org\">Statistics</a></li>\n",
       "<li id=\"footer-places-cookiestatement\"><a href=\"https://foundation.wikimedia.org/wiki/Cookie_statement\">Cookie statement</a></li>\n",
       "</ul>\n",
       "<ul class=\"noprint\" id=\"footer-icons\">\n",
       "<li id=\"footer-copyrightico\"><a href=\"https://wikimediafoundation.org/\"><img alt=\"Wikimedia Foundation\" height=\"31\" loading=\"lazy\" src=\"/static/images/footer/wikimedia-button.png\" srcset=\"/static/images/footer/wikimedia-button-1.5x.png 1.5x, /static/images/footer/wikimedia-button-2x.png 2x\" width=\"88\"/></a></li>\n",
       "<li id=\"footer-poweredbyico\"><a href=\"https://www.mediawiki.org/\"><img alt=\"Powered by MediaWiki\" height=\"31\" loading=\"lazy\" src=\"/static/images/footer/poweredby_mediawiki_88x31.png\" srcset=\"/static/images/footer/poweredby_mediawiki_132x47.png 1.5x, /static/images/footer/poweredby_mediawiki_176x62.png 2x\" width=\"88\"/></a></li>\n",
       "</ul>\n",
       "<div style=\"clear: both;\"></div>\n",
       "</footer>\n",
       "<script>(RLQ=window.RLQ||[]).push(function(){mw.config.set({\"wgPageParseReport\":{\"limitreport\":{\"cputime\":\"1.860\",\"walltime\":\"2.269\",\"ppvisitednodes\":{\"value\":9434,\"limit\":1000000},\"postexpandincludesize\":{\"value\":479236,\"limit\":2097152},\"templateargumentsize\":{\"value\":95989,\"limit\":2097152},\"expansiondepth\":{\"value\":18,\"limit\":40},\"expensivefunctioncount\":{\"value\":23,\"limit\":500},\"unstrip-depth\":{\"value\":1,\"limit\":20},\"unstrip-size\":{\"value\":325222,\"limit\":5000000},\"entityaccesscount\":{\"value\":1,\"limit\":400},\"timingprofile\":[\"100.00% 1793.629      1 -total\",\" 46.63%  836.359      2 Template:Reflist\",\" 17.33%  310.925      2 Template:Infobox\",\" 15.37%  275.682      1 Template:Infobox_person\",\" 14.75%  264.518     57 Template:Cite_web\",\" 10.75%  192.893     14 Template:Cite_news\",\"  6.47%  115.987      8 Template:Br_separated_entries\",\"  6.25%  112.100      1 Template:Navboxes\",\"  6.19%  111.112     22 Template:Cite_book\",\"  4.77%   85.609      1 Template:Infobox_military_person\"]},\"scribunto\":{\"limitreport-timeusage\":{\"value\":\"0.882\",\"limit\":\"10.000\"},\"limitreport-memusage\":{\"value\":14252854,\"limit\":52428800}},\"cachereport\":{\"origin\":\"mw1270\",\"timestamp\":\"20201115213833\",\"ttl\":86400,\"transientcontent\":true}}});});</script>\n",
       "<script type=\"application/ld+json\">{\"@context\":\"https:\\/\\/schema.org\",\"@type\":\"Article\",\"name\":\"Grace Hopper\",\"url\":\"https:\\/\\/en.wikipedia.org\\/wiki\\/Grace_Hopper\",\"sameAs\":\"http:\\/\\/www.wikidata.org\\/entity\\/Q11641\",\"mainEntity\":\"http:\\/\\/www.wikidata.org\\/entity\\/Q11641\",\"author\":{\"@type\":\"Organization\",\"name\":\"Contributors to Wikimedia projects\"},\"publisher\":{\"@type\":\"Organization\",\"name\":\"Wikimedia Foundation, Inc.\",\"logo\":{\"@type\":\"ImageObject\",\"url\":\"https:\\/\\/www.wikimedia.org\\/static\\/images\\/wmf-hor-googpub.png\"}},\"datePublished\":\"2001-09-22T13:19:12Z\",\"dateModified\":\"2020-11-13T21:09:48Z\",\"image\":\"https:\\/\\/upload.wikimedia.org\\/wikipedia\\/commons\\/a\\/ad\\/Commodore_Grace_M._Hopper%2C_USN_%28covered%29.jpg\",\"headline\":\"American computer scientist and United States Navy officer\"}</script>\n",
       "<script>(RLQ=window.RLQ||[]).push(function(){mw.config.set({\"wgBackendResponseTime\":198,\"wgHostname\":\"mw1332\"});});</script>\n",
       "</body></html>"
      ]
     },
     "metadata": {},
     "execution_count": 5
    }
   ],
   "source": [
    "soup"
   ]
  },
  {
   "cell_type": "code",
   "execution_count": 6,
   "metadata": {},
   "outputs": [
    {
     "output_type": "execute_result",
     "data": {
      "text/plain": [
       "[<span class=\"toctext\">Early life and education</span>,\n",
       " <span class=\"toctext\">Career</span>,\n",
       " <span class=\"toctext\">World War II</span>,\n",
       " <span class=\"toctext\">UNIVAC</span>,\n",
       " <span class=\"toctext\">COBOL</span>,\n",
       " <span class=\"toctext\">Standards</span>,\n",
       " <span class=\"toctext\">Retirement</span>,\n",
       " <span class=\"toctext\">Post-retirement</span>,\n",
       " <span class=\"toctext\">Anecdotes</span>,\n",
       " <span class=\"toctext\">Death</span>,\n",
       " <span class=\"toctext\">Dates of rank</span>,\n",
       " <span class=\"toctext\">Awards and honors</span>,\n",
       " <span class=\"toctext\">Military awards</span>,\n",
       " <span class=\"toctext\">Other awards</span>,\n",
       " <span class=\"toctext\">Legacy</span>,\n",
       " <span class=\"toctext\">Places</span>,\n",
       " <span class=\"toctext\">Programs</span>,\n",
       " <span class=\"toctext\">In popular culture</span>,\n",
       " <span class=\"toctext\">Grace Hopper Celebration of Women in Computing</span>,\n",
       " <span class=\"toctext\">See also</span>,\n",
       " <span class=\"toctext\">Notes</span>,\n",
       " <span class=\"toctext\">Obituary notices</span>,\n",
       " <span class=\"toctext\">References</span>,\n",
       " <span class=\"toctext\">Further reading</span>,\n",
       " <span class=\"toctext\">External links</span>]"
      ]
     },
     "metadata": {},
     "execution_count": 6
    }
   ],
   "source": [
    "soup.select('.toctext')"
   ]
  },
  {
   "cell_type": "code",
   "execution_count": 7,
   "metadata": {},
   "outputs": [
    {
     "output_type": "stream",
     "name": "stdout",
     "text": [
      "Early life and education\nCareer\nWorld War II\nUNIVAC\nCOBOL\nStandards\nRetirement\nPost-retirement\nAnecdotes\nDeath\nDates of rank\nAwards and honors\nMilitary awards\nOther awards\nLegacy\nPlaces\nPrograms\nIn popular culture\nGrace Hopper Celebration of Women in Computing\nSee also\nNotes\nObituary notices\nReferences\nFurther reading\nExternal links\n"
     ]
    }
   ],
   "source": [
    "for item in soup.select('.toctext'):\n",
    "    print(item.text)"
   ]
  },
  {
   "cell_type": "code",
   "execution_count": null,
   "metadata": {},
   "outputs": [],
   "source": []
  }
 ]
}