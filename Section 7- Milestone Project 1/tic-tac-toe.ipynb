{
 "metadata": {
  "language_info": {
   "codemirror_mode": {
    "name": "ipython",
    "version": 3
   },
   "file_extension": ".py",
   "mimetype": "text/x-python",
   "name": "python",
   "nbconvert_exporter": "python",
   "pygments_lexer": "ipython3",
   "version": "3.9.0-final"
  },
  "orig_nbformat": 2,
  "kernelspec": {
   "name": "Python 3.9.0 64-bit",
   "display_name": "Python 3.9.0 64-bit",
   "metadata": {
    "interpreter": {
     "hash": "e4667e43430e7a69470d9d7b3ddebac326f89c0b103a9a4482c8c430722766f4"
    }
   }
  }
 },
 "nbformat": 4,
 "nbformat_minor": 2,
 "cells": [
  {
   "cell_type": "code",
   "execution_count": 15,
   "metadata": {},
   "outputs": [],
   "source": [
    "def setup():\n",
    "    print(\"Welcome to Tic Tac Toe!\")\n",
    "    invalid = True\n",
    "    while invalid:\n",
    "        player_choice = input(\"Player 1: Do you want to be 'X' or 'O'?\")\n",
    "        if not (player_choice == \"X\" or player_choice == \"O\"):\n",
    "            print(\"Sorry, please try again!\")\n",
    "        else:\n",
    "            invalid = False\n",
    "    return player_choice"
   ]
  },
  {
   "cell_type": "code",
   "execution_count": 8,
   "metadata": {},
   "outputs": [
    {
     "output_type": "stream",
     "name": "stdout",
     "text": [
      "Welcome to Tic Tac Toe!\n"
     ]
    },
    {
     "output_type": "execute_result",
     "data": {
      "text/plain": [
       "'X'"
      ]
     },
     "metadata": {},
     "execution_count": 8
    }
   ],
   "source": [
    "setup()"
   ]
  },
  {
   "cell_type": "code",
   "execution_count": 9,
   "metadata": {},
   "outputs": [],
   "source": [
    "def is_player_ready():\n",
    "    choice = input(\"Are you ready to play?\")\n",
    "    if choice == \"Yes\" or choice == \"yes\":\n",
    "        return True\n",
    "    else:\n",
    "        return False"
   ]
  },
  {
   "cell_type": "code",
   "execution_count": 48,
   "metadata": {},
   "outputs": [],
   "source": [
    "def draw_board(pos_list):\n",
    "    print(\"    |    |    \")\n",
    "    print(f\"  {pos_list[6]} |  {pos_list[7]} |  {pos_list[8]}  \")\n",
    "    print(\"    |    |    \")\n",
    "    print(\"---------------\")\n",
    "    print(\"    |    |    \")\n",
    "    print(f\"  {pos_list[3]} |  {pos_list[4]} |  {pos_list[5]}  \")\n",
    "    print(\"    |    |    \")\n",
    "    print(\"---------------\")\n",
    "    print(\"    |    |    \")\n",
    "    print(f\"  {pos_list[0]} |  {pos_list[1]} |  {pos_list[2]}  \")\n",
    "    print(\"    |    |    \")"
   ]
  },
  {
   "cell_type": "code",
   "execution_count": 39,
   "metadata": {},
   "outputs": [],
   "source": [
    "def player_choice(player):\n",
    "    invalid = True\n",
    "    while True:\n",
    "        choice = input(f\"Player {player} Choose your next position (1-9):\")\n",
    "        if choice.isdigit():\n",
    "            choice = int(choice)\n",
    "            if choice < 0 or choice > 9:\n",
    "                print(\"Sorry, that doesn't seem right. Please try again\")     \n",
    "            else:\n",
    "                return choice\n",
    "        else:\n",
    "            print(\"Sorry, that doesn't seem right. Please try again\")\n",
    "            "
   ]
  },
  {
   "cell_type": "code",
   "execution_count": 21,
   "metadata": {},
   "outputs": [],
   "source": [
    "def check_win(pos_list):\n",
    "\n",
    "    # X WINS\n",
    "    # check if rows have a win\n",
    "    if pos_list[0] == pos_list[1] == pos_list[2] == 'X':\n",
    "        print(\"X wins!\")\n",
    "        return True\n",
    "    elif pos_list[3] == pos_list[4] == pos_list[5] == 'X':\n",
    "        print(\"X wins!\")\n",
    "        return True\n",
    "    elif pos_list[6] == pos_list[7] == pos_list[8] == 'X':\n",
    "        print(\"X wins!\")\n",
    "        return True\n",
    "    # check if columns have a win\n",
    "    elif pos_list[0] == pos_list[3] == pos_list[6] == 'X':\n",
    "        print(\"X wins!\")\n",
    "        return True\n",
    "    elif pos_list[1] == pos_list[4] == pos_list[7] == 'X':\n",
    "        print(\"X wins!\")\n",
    "        return True\n",
    "    elif pos_list[2] == pos_list[5] == pos_list[8] == 'X':\n",
    "        print(\"X wins!\")\n",
    "        return True\n",
    "    # check if diagonals have a win\n",
    "    elif pos_list[0] == pos_list[4] == pos_list[8] == 'X':\n",
    "        print(\"X wins!\")\n",
    "        return True\n",
    "    elif pos_list[6] == pos_list[4] == pos_list[2] == 'X':\n",
    "        print(\"X wins!\")\n",
    "        return True\n",
    "    # O WINS\n",
    "    # check if rows have a win\n",
    "    elif pos_list[0] == pos_list[1] == pos_list[2] == 'O':\n",
    "        print(\"O wins!\")\n",
    "        return True\n",
    "    elif pos_list[3] == pos_list[4] == pos_list[5] == 'O':\n",
    "        print(\"O wins!\")\n",
    "        return True\n",
    "    elif pos_list[6] == pos_list[7] == pos_list[8] =='O':\n",
    "        print(\"O wins!\")\n",
    "        return True\n",
    "    # check if columns have a win\n",
    "    elif pos_list[0] == pos_list[3] == pos_list[6] == 'O':\n",
    "        print(\"O wins!\")\n",
    "        return True\n",
    "    elif pos_list[1] == pos_list[4] == pos_list[7] == 'O':\n",
    "        print(\"O wins!\")\n",
    "        return True\n",
    "    elif pos_list[2] == pos_list[5] == pos_list[8] == 'O':\n",
    "        print(\"O wins!\")\n",
    "        return True   \n",
    "    # check if diagonals have a win\n",
    "    elif pos_list[0] == pos_list[4] == pos_list[8] == 'O':\n",
    "        print(\"O wins!\")\n",
    "        return True\n",
    "    elif pos_list[6] == pos_list[4] == pos_list[2] == 'O':\n",
    "        print(\"O wins!\")\n",
    "        return True\n",
    "    else:\n",
    "        return False"
   ]
  },
  {
   "cell_type": "code",
   "execution_count": 45,
   "metadata": {},
   "outputs": [],
   "source": [
    "def check_tie(board):\n",
    "    for num, marker in enumerate(board):\n",
    "        if marker.isspace():\n",
    "            return False\n",
    "    print(\"Tie!\")\n",
    "    return True"
   ]
  },
  {
   "cell_type": "code",
   "execution_count": 49,
   "metadata": {},
   "outputs": [],
   "source": [
    "def play():\n",
    "    player1 = ' '\n",
    "    player2 = ' '\n",
    "    current_player = ' '\n",
    "    game_board = [\" \", \" \", \" \", \" \", \" \", \" \", \" \", \" \", \" \"]\n",
    "    player1 = setup()\n",
    "    if player1 == 'X':\n",
    "        player2 == 'O'        \n",
    "    else:\n",
    "        player2 = 'X'\n",
    "    current_player = player1\n",
    "    if (is_player_ready()):\n",
    "        while True:\n",
    "            num = player_choice(current_player)\n",
    "            if game_board[num-1] not in ['X', 'O']:\n",
    "                game_board[num-1] = current_player\n",
    "                draw_board(game_board)\n",
    "                print('\\n')\n",
    "                if check_win(game_board):\n",
    "                    print(\"Game over!\")\n",
    "                    break\n",
    "                else:\n",
    "                    if current_player == 'X':\n",
    "                        current_player = 'O'\n",
    "                    else:\n",
    "                        current_player = \"X\"\n",
    "                \n",
    "            else:\n",
    "                if check_tie(game_board):\n",
    "                    break\n",
    "                print(\"Sorry, that position is taken!\")\n",
    "        \n",
    "    else:\n",
    "        print(\"Goodbye!\")"
   ]
  },
  {
   "cell_type": "code",
   "execution_count": 50,
   "metadata": {},
   "outputs": [
    {
     "output_type": "stream",
     "name": "stdout",
     "text": [
      "Welcome to Tic Tac Toe!\n",
      "Sorry, that doesn't seem right. Please try again\n"
     ]
    },
    {
     "output_type": "error",
     "ename": "NameError",
     "evalue": "name 'clear_output' is not defined",
     "traceback": [
      "\u001b[1;31m---------------------------------------------------------------------------\u001b[0m",
      "\u001b[1;31mNameError\u001b[0m                                 Traceback (most recent call last)",
      "\u001b[1;32m<ipython-input-50-425fd712de3c>\u001b[0m in \u001b[0;36m<module>\u001b[1;34m\u001b[0m\n\u001b[1;32m----> 1\u001b[1;33m \u001b[0mplay\u001b[0m\u001b[1;33m(\u001b[0m\u001b[1;33m)\u001b[0m\u001b[1;33m\u001b[0m\u001b[1;33m\u001b[0m\u001b[0m\n\u001b[0m",
      "\u001b[1;32m<ipython-input-49-dfe0f398ee0a>\u001b[0m in \u001b[0;36mplay\u001b[1;34m()\u001b[0m\n\u001b[0;32m     15\u001b[0m             \u001b[1;32mif\u001b[0m \u001b[0mgame_board\u001b[0m\u001b[1;33m[\u001b[0m\u001b[0mnum\u001b[0m\u001b[1;33m-\u001b[0m\u001b[1;36m1\u001b[0m\u001b[1;33m]\u001b[0m \u001b[1;32mnot\u001b[0m \u001b[1;32min\u001b[0m \u001b[1;33m[\u001b[0m\u001b[1;34m'X'\u001b[0m\u001b[1;33m,\u001b[0m \u001b[1;34m'O'\u001b[0m\u001b[1;33m]\u001b[0m\u001b[1;33m:\u001b[0m\u001b[1;33m\u001b[0m\u001b[1;33m\u001b[0m\u001b[0m\n\u001b[0;32m     16\u001b[0m                 \u001b[0mgame_board\u001b[0m\u001b[1;33m[\u001b[0m\u001b[0mnum\u001b[0m\u001b[1;33m-\u001b[0m\u001b[1;36m1\u001b[0m\u001b[1;33m]\u001b[0m \u001b[1;33m=\u001b[0m \u001b[0mcurrent_player\u001b[0m\u001b[1;33m\u001b[0m\u001b[1;33m\u001b[0m\u001b[0m\n\u001b[1;32m---> 17\u001b[1;33m                 \u001b[0mdraw_board\u001b[0m\u001b[1;33m(\u001b[0m\u001b[0mgame_board\u001b[0m\u001b[1;33m)\u001b[0m\u001b[1;33m\u001b[0m\u001b[1;33m\u001b[0m\u001b[0m\n\u001b[0m\u001b[0;32m     18\u001b[0m                 \u001b[0mprint\u001b[0m\u001b[1;33m(\u001b[0m\u001b[1;34m'\\n'\u001b[0m\u001b[1;33m)\u001b[0m\u001b[1;33m\u001b[0m\u001b[1;33m\u001b[0m\u001b[0m\n\u001b[0;32m     19\u001b[0m                 \u001b[1;32mif\u001b[0m \u001b[0mcheck_win\u001b[0m\u001b[1;33m(\u001b[0m\u001b[0mgame_board\u001b[0m\u001b[1;33m)\u001b[0m\u001b[1;33m:\u001b[0m\u001b[1;33m\u001b[0m\u001b[1;33m\u001b[0m\u001b[0m\n",
      "\u001b[1;32m<ipython-input-48-cc55b2e50ae6>\u001b[0m in \u001b[0;36mdraw_board\u001b[1;34m(pos_list)\u001b[0m\n\u001b[0;32m      1\u001b[0m \u001b[1;32mdef\u001b[0m \u001b[0mdraw_board\u001b[0m\u001b[1;33m(\u001b[0m\u001b[0mpos_list\u001b[0m\u001b[1;33m)\u001b[0m\u001b[1;33m:\u001b[0m\u001b[1;33m\u001b[0m\u001b[1;33m\u001b[0m\u001b[0m\n\u001b[1;32m----> 2\u001b[1;33m     \u001b[0mclear_output\u001b[0m\u001b[1;33m(\u001b[0m\u001b[1;33m)\u001b[0m \u001b[1;31m# only works with Jupyter Notebooks\u001b[0m\u001b[1;33m\u001b[0m\u001b[1;33m\u001b[0m\u001b[0m\n\u001b[0m\u001b[0;32m      3\u001b[0m     \u001b[0mprint\u001b[0m\u001b[1;33m(\u001b[0m\u001b[1;34m\"    |    |    \"\u001b[0m\u001b[1;33m)\u001b[0m\u001b[1;33m\u001b[0m\u001b[1;33m\u001b[0m\u001b[0m\n\u001b[0;32m      4\u001b[0m     \u001b[0mprint\u001b[0m\u001b[1;33m(\u001b[0m\u001b[1;34mf\"  {pos_list[6]} |  {pos_list[7]} |  {pos_list[8]}  \"\u001b[0m\u001b[1;33m)\u001b[0m\u001b[1;33m\u001b[0m\u001b[1;33m\u001b[0m\u001b[0m\n\u001b[0;32m      5\u001b[0m     \u001b[0mprint\u001b[0m\u001b[1;33m(\u001b[0m\u001b[1;34m\"    |    |    \"\u001b[0m\u001b[1;33m)\u001b[0m\u001b[1;33m\u001b[0m\u001b[1;33m\u001b[0m\u001b[0m\n",
      "\u001b[1;31mNameError\u001b[0m: name 'clear_output' is not defined"
     ]
    }
   ],
   "source": [
    "play()"
   ]
  },
  {
   "cell_type": "code",
   "execution_count": null,
   "metadata": {},
   "outputs": [],
   "source": []
  }
 ]
}