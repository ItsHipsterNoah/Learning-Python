{
 "metadata": {
  "language_info": {
   "codemirror_mode": {
    "name": "ipython",
    "version": 3
   },
   "file_extension": ".py",
   "mimetype": "text/x-python",
   "name": "python",
   "nbconvert_exporter": "python",
   "pygments_lexer": "ipython3",
   "version": "3.9.0-final"
  },
  "orig_nbformat": 2,
  "kernelspec": {
   "name": "Python 3.9.0 64-bit",
   "display_name": "Python 3.9.0 64-bit",
   "metadata": {
    "interpreter": {
     "hash": "aee8b7b246df8f9039afb4144a1f6fd8d2ca17a180786b69acc140d282b71a49"
    }
   }
  }
 },
 "nbformat": 4,
 "nbformat_minor": 2,
 "cells": [
  {
   "cell_type": "code",
   "execution_count": 1,
   "metadata": {},
   "outputs": [
    {
     "output_type": "execute_result",
     "data": {
      "text/plain": [
       "'/Users/thomp/Udemy-Python/Section 14'"
      ]
     },
     "metadata": {},
     "execution_count": 1
    }
   ],
   "source": [
    "pwd"
   ]
  },
  {
   "cell_type": "code",
   "execution_count": 13,
   "metadata": {},
   "outputs": [],
   "source": [
    "f = open('practice.txt', 'w+')\n",
    "f.write('This is a test string')\n",
    "f.close()"
   ]
  },
  {
   "cell_type": "code",
   "execution_count": 3,
   "metadata": {},
   "outputs": [],
   "source": [
    "import os"
   ]
  },
  {
   "cell_type": "code",
   "execution_count": 5,
   "metadata": {},
   "outputs": [
    {
     "output_type": "execute_result",
     "data": {
      "text/plain": [
       "'/Users/thomp/Udemy-Python/Section 14'"
      ]
     },
     "metadata": {},
     "execution_count": 5
    }
   ],
   "source": [
    "os.getcwd()"
   ]
  },
  {
   "cell_type": "code",
   "execution_count": 6,
   "metadata": {},
   "outputs": [
    {
     "output_type": "execute_result",
     "data": {
      "text/plain": [
       "['opening-reading-files-folders.ipynb',\n",
       " 'collections-module.ipynb',\n",
       " 'practice.txt']"
      ]
     },
     "metadata": {},
     "execution_count": 6
    }
   ],
   "source": [
    "os.listdir()"
   ]
  },
  {
   "cell_type": "code",
   "execution_count": 9,
   "metadata": {},
   "outputs": [
    {
     "output_type": "execute_result",
     "data": {
      "text/plain": [
       "['Section 10',\n",
       " 'Section 9',\n",
       " 'Section 11',\n",
       " 'Section 6',\n",
       " 'Section 8',\n",
       " '.DS_Store',\n",
       " 'Section 7- Milestone Project 1',\n",
       " 'README.md',\n",
       " 'Section 4',\n",
       " 'Section 3',\n",
       " 'Section 13',\n",
       " 'Section 14',\n",
       " 'Section 2',\n",
       " 'Section 5',\n",
       " 'Section 12',\n",
       " '.git']"
      ]
     },
     "metadata": {},
     "execution_count": 9
    }
   ],
   "source": [
    "os.listdir('/Users/thomp/Udemy-Python')"
   ]
  },
  {
   "cell_type": "code",
   "execution_count": 10,
   "metadata": {},
   "outputs": [],
   "source": [
    "import shutil"
   ]
  },
  {
   "cell_type": "code",
   "execution_count": 20,
   "metadata": {},
   "outputs": [
    {
     "output_type": "execute_result",
     "data": {
      "text/plain": [
       "'/Users/thomp/Udemy-Python/practice.txt'"
      ]
     },
     "metadata": {},
     "execution_count": 20
    }
   ],
   "source": [
    "shutil.move('practice.txt', '/Users/thomp/Udemy-Python/')"
   ]
  },
  {
   "cell_type": "code",
   "execution_count": 21,
   "metadata": {},
   "outputs": [],
   "source": [
    "import send2trash"
   ]
  },
  {
   "cell_type": "code",
   "execution_count": 22,
   "metadata": {},
   "outputs": [
    {
     "output_type": "execute_result",
     "data": {
      "text/plain": [
       "['opening-reading-files-folders.ipynb', 'collections-module.ipynb']"
      ]
     },
     "metadata": {},
     "execution_count": 22
    }
   ],
   "source": [
    "os.listdir()"
   ]
  },
  {
   "cell_type": "code",
   "execution_count": 24,
   "metadata": {},
   "outputs": [
    {
     "output_type": "execute_result",
     "data": {
      "text/plain": [
       "'/Users/thomp/Udemy-Python/Section 14/practice.txt'"
      ]
     },
     "metadata": {},
     "execution_count": 24
    }
   ],
   "source": [
    "shutil.move('/Users/thomp/Udemy-Python/practice.txt', os.getcwd())"
   ]
  },
  {
   "cell_type": "code",
   "execution_count": 25,
   "metadata": {},
   "outputs": [],
   "source": [
    "send2trash.send2trash('practice.txt')"
   ]
  },
  {
   "cell_type": "code",
   "execution_count": 26,
   "metadata": {},
   "outputs": [
    {
     "output_type": "stream",
     "name": "stdout",
     "text": [
      "Currently looking at /Users/thomp/Udemy-Python/\n\nThe subfolders are: \nSubfolder: Section 10\nSubfolder: Section 9\nSubfolder: Section 11\nSubfolder: Section 6\nSubfolder: Section 8\nSubfolder: Section 7- Milestone Project 1\nSubfolder: Section 4\nSubfolder: Section 3\nSubfolder: Section 13\nSubfolder: Section 14\nSubfolder: Section 2\nSubfolder: Section 5\nSubfolder: Section 12\nSubfolder: .git\n\nThe files are: \nFile: .DS_Store\nFile: README.md\n\nCurrently looking at /Users/thomp/Udemy-Python/Section 10\n\nThe subfolders are: \nSubfolder: WorkingWithPylint\nSubfolder: UnitTesting\n\nThe files are: \nFile: 02-Errors and Exceptions Homework.ipynb\nFile: errors-exception-handling.ipynb\nFile: testfile\n\nCurrently looking at /Users/thomp/Udemy-Python/Section 10/WorkingWithPylint\n\nThe subfolders are: \n\nThe files are: \nFile: simple1.py\nFile: simple2.py\n\nCurrently looking at /Users/thomp/Udemy-Python/Section 10/UnitTesting\n\nThe subfolders are: \nSubfolder: __pycache__\n\nThe files are: \nFile: test_cap.py\nFile: cap.py\n\nCurrently looking at /Users/thomp/Udemy-Python/Section 10/UnitTesting/__pycache__\n\nThe subfolders are: \n\nThe files are: \nFile: cap.cpython-39.pyc\n\nCurrently looking at /Users/thomp/Udemy-Python/Section 9\n\nThe subfolders are: \nSubfolder: ModulesAndPackages\nSubfolder: Name-And-Main\nSubfolder: __pycache__\n\nThe files are: \nFile: .DS_Store\n\nCurrently looking at /Users/thomp/Udemy-Python/Section 9/ModulesAndPackages\n\nThe subfolders are: \nSubfolder: __pycache__\nSubfolder: MyMainPackage\n\nThe files are: \nFile: myprogram.py\nFile: mymodule.py\n\nCurrently looking at /Users/thomp/Udemy-Python/Section 9/ModulesAndPackages/__pycache__\n\nThe subfolders are: \n\nThe files are: \nFile: mymodule.cpython-39.pyc\n\nCurrently looking at /Users/thomp/Udemy-Python/Section 9/ModulesAndPackages/MyMainPackage\n\nThe subfolders are: \nSubfolder: __pycache__\nSubfolder: SubPackage\n\nThe files are: \nFile: __init__.py\nFile: some_main_script.py\n\nCurrently looking at /Users/thomp/Udemy-Python/Section 9/ModulesAndPackages/MyMainPackage/__pycache__\n\nThe subfolders are: \n\nThe files are: \nFile: __init__.cpython-39.pyc\nFile: some_main_script.cpython-39.pyc\n\nCurrently looking at /Users/thomp/Udemy-Python/Section 9/ModulesAndPackages/MyMainPackage/SubPackage\n\nThe subfolders are: \nSubfolder: __pycache__\n\nThe files are: \nFile: __init__.py\nFile: my_subscript.py\n\nCurrently looking at /Users/thomp/Udemy-Python/Section 9/ModulesAndPackages/MyMainPackage/SubPackage/__pycache__\n\nThe subfolders are: \n\nThe files are: \nFile: __init__.cpython-39.pyc\nFile: my_subscript.cpython-39.pyc\n\nCurrently looking at /Users/thomp/Udemy-Python/Section 9/Name-And-Main\n\nThe subfolders are: \nSubfolder: __pycache__\n\nThe files are: \nFile: one.py\nFile: two.py\n\nCurrently looking at /Users/thomp/Udemy-Python/Section 9/Name-And-Main/__pycache__\n\nThe subfolders are: \n\nThe files are: \nFile: one.cpython-39.pyc\n\nCurrently looking at /Users/thomp/Udemy-Python/Section 9/__pycache__\n\nThe subfolders are: \n\nThe files are: \nFile: my_module.cpython-39.pyc\nFile: mymodule.cpython-39.pyc\n\nCurrently looking at /Users/thomp/Udemy-Python/Section 11\n\nThe subfolders are: \n\nThe files are: \nFile: .DS_Store\nFile: blackjack.ipynb\nFile: war.ipynb\nFile: 02-Milestone Project 2 - Walkthrough Steps Workbook.ipynb\n\nCurrently looking at /Users/thomp/Udemy-Python/Section 6\n\nThe subfolders are: \nSubfolder: .vscode\n\nThe files are: \nFile: logic-with-functions.ipynb\nFile: functions-basics.ipynb\nFile: functions-tuple-unpacking.ipynb\nFile: interactions-between-functions.ipynb\nFile: methods-intro.ipynb\nFile: 03-Function Practice Exercises.ipynb\nFile: lambda-map-filter.ipynb\nFile: nested-statements-and-scope.ipynb\nFile: args-and-kwargs.ipynb\nFile: 08-Functions and Methods Homework.ipynb\n\nCurrently looking at /Users/thomp/Udemy-Python/Section 6/.vscode\n\nThe subfolders are: \n\nThe files are: \nFile: settings.json\n\nCurrently looking at /Users/thomp/Udemy-Python/Section 8\n\nThe subfolders are: \nSubfolder: .vscode\n\nThe files are: \nFile: 04-OOP Challenge.ipynb\nFile: oop-inheritance-and-polymorphism.ipynb\nFile: oop-attributes-and methods.ipynb\nFile: oop-special-methods.ipynb\nFile: 02-Object Oriented Programming Homework.ipynb\nFile: oop-attributes-and-class.ipynb\n\nCurrently looking at /Users/thomp/Udemy-Python/Section 8/.vscode\n\nThe subfolders are: \n\nThe files are: \nFile: settings.json\n\nCurrently looking at /Users/thomp/Udemy-Python/Section 7- Milestone Project 1\n\nThe subfolders are: \n\nThe files are: \nFile: accepting-user-input.ipynb\nFile: validating-input.ipynb\nFile: tic-tac-toe.ipynb\nFile: simple-user-interaction.ipynb\nFile: displaying-information.ipynb\n\nCurrently looking at /Users/thomp/Udemy-Python/Section 4\n\nThe subfolders are: \nSubfolder: .vscode\n\nThe files are: \nFile: ChainingCompairsonOperators.ipynb\n\nCurrently looking at /Users/thomp/Udemy-Python/Section 4/.vscode\n\nThe subfolders are: \n\nThe files are: \nFile: settings.json\n\nCurrently looking at /Users/thomp/Udemy-Python/Section 3\n\nThe subfolders are: \nSubfolder: .vscode\n\nThe files are: \nFile: StringPropsMethods.ipynb\nFile: Numbers.ipynb\nFile: Sets.ipynb\nFile: my_new_file.txt\nFile: Lists.ipynb\nFile: Tuples.ipynb\nFile: FileIO.ipynb\nFile: PrintFormatting.ipynb\nFile: Dictionaries.ipynb\nFile: Booleans.ipynb\nFile: myfile.txt\nFile: 09-Objects and Data Structures Assessment Test.ipynb\nFile: Strings.ipynb\nFile: VariableAssignments.ipynb\nFile: ashfhsaf.txt\n\nCurrently looking at /Users/thomp/Udemy-Python/Section 3/.vscode\n\nThe subfolders are: \n\nThe files are: \nFile: settings.json\n\nCurrently looking at /Users/thomp/Udemy-Python/Section 13\n\nThe subfolders are: \n\nThe files are: \nFile: python-generators.ipynb\nFile: 02-Iterators and Generators Homework.ipynb\n\nCurrently looking at /Users/thomp/Udemy-Python/Section 14\n\nThe subfolders are: \n\nThe files are: \nFile: opening-reading-files-folders.ipynb\nFile: collections-module.ipynb\n\nCurrently looking at /Users/thomp/Udemy-Python/Section 2\n\nThe subfolders are: \nSubfolder: .vscode\n\nThe files are: \nFile: myfirstnotebook.ipynb\nFile: HelloWorld.py\n\nCurrently looking at /Users/thomp/Udemy-Python/Section 2/.vscode\n\nThe subfolders are: \n\nThe files are: \nFile: launch.json\n\nCurrently looking at /Users/thomp/Udemy-Python/Section 5\n\nThe subfolders are: \n\nThe files are: \nFile: if-else-elif.ipynb\nFile: list-comprehensions.ipynb\nFile: 07-Statements Assessment Test.ipynb\nFile: useful-operators.ipynb\nFile: while-loops.ipynb\nFile: for-loops.ipynb\n\nCurrently looking at /Users/thomp/Udemy-Python/Section 12\n\nThe subfolders are: \n\nThe files are: \nFile: decorators-overview.ipynb\n\nCurrently looking at /Users/thomp/Udemy-Python/.git\n\nThe subfolders are: \nSubfolder: objects\nSubfolder: info\nSubfolder: logs\nSubfolder: hooks\nSubfolder: refs\n\nThe files are: \nFile: config\nFile: HEAD\nFile: description\nFile: index\nFile: COMMIT_EDITMSG\nFile: FETCH_HEAD\n\nCurrently looking at /Users/thomp/Udemy-Python/.git/objects\n\nThe subfolders are: \nSubfolder: 3e\nSubfolder: 04\nSubfolder: 93\nSubfolder: 33\nSubfolder: d7\nSubfolder: b4\nSubfolder: d6\nSubfolder: e2\nSubfolder: f4\nSubfolder: f2\nSubfolder: fb\nSubfolder: c6\nSubfolder: 18\nSubfolder: pack\nSubfolder: 45\nSubfolder: 28\nSubfolder: 8a\nSubfolder: 4d\nSubfolder: 9f\nSubfolder: 6b\nSubfolder: 9a\nSubfolder: info\nSubfolder: 5e\nSubfolder: 97\nSubfolder: 0f\nSubfolder: a8\nSubfolder: e1\nSubfolder: cc\nSubfolder: f7\nSubfolder: ff\nSubfolder: f8\nSubfolder: 15\nSubfolder: 14\n\nThe files are: \n\nCurrently looking at /Users/thomp/Udemy-Python/.git/objects/3e\n\nThe subfolders are: \n\nThe files are: \nFile: 7a3b7b2b754754b78abefa3a4e0a42059bb4ff\n\nCurrently looking at /Users/thomp/Udemy-Python/.git/objects/04\n\nThe subfolders are: \n\nThe files are: \nFile: 0d72a7b9f5355a590b2de6de34c2417f722ade\n\nCurrently looking at /Users/thomp/Udemy-Python/.git/objects/93\n\nThe subfolders are: \n\nThe files are: \nFile: ef7b4ea9d7e7e546285f3e107d81e4131ae270\n\nCurrently looking at /Users/thomp/Udemy-Python/.git/objects/33\n\nThe subfolders are: \n\nThe files are: \nFile: b95b0276ea51311bc59eb34c0947eb814f1e30\n\nCurrently looking at /Users/thomp/Udemy-Python/.git/objects/d7\n\nThe subfolders are: \n\nThe files are: \nFile: 2313e673c3ac0e5ced776b77f2f771870318b9\n\nCurrently looking at /Users/thomp/Udemy-Python/.git/objects/b4\n\nThe subfolders are: \n\nThe files are: \nFile: a06c11a7e2b46f67157b58d53bbd63ad9116d8\n\nCurrently looking at /Users/thomp/Udemy-Python/.git/objects/d6\n\nThe subfolders are: \n\nThe files are: \nFile: ff3915e1f9c58c3be925cee00357c5665532b2\n\nCurrently looking at /Users/thomp/Udemy-Python/.git/objects/e2\n\nThe subfolders are: \n\nThe files are: \nFile: e7e416ba5637d28430351600c91cbf979e595d\n\nCurrently looking at /Users/thomp/Udemy-Python/.git/objects/f4\n\nThe subfolders are: \n\nThe files are: \nFile: 8aeeef04843df87a5859f69aba4569d385fb98\n\nCurrently looking at /Users/thomp/Udemy-Python/.git/objects/f2\n\nThe subfolders are: \n\nThe files are: \nFile: 2bfd1550b8f4164aed51d2a2eb52174af48627\n\nCurrently looking at /Users/thomp/Udemy-Python/.git/objects/fb\n\nThe subfolders are: \n\nThe files are: \nFile: 8c0891afaf79fb2333ebadde55736a98d9ccd9\n\nCurrently looking at /Users/thomp/Udemy-Python/.git/objects/c6\n\nThe subfolders are: \n\nThe files are: \nFile: bc0d85442e090eca4e8c88194910ab67385234\n\nCurrently looking at /Users/thomp/Udemy-Python/.git/objects/18\n\nThe subfolders are: \n\nThe files are: \nFile: c9e8c7649b97366b661d5539c1de33a5ea1dcd\n\nCurrently looking at /Users/thomp/Udemy-Python/.git/objects/pack\n\nThe subfolders are: \n\nThe files are: \nFile: pack-bae2103aae6c6aca26c3002a8aeb93c4148caafa.pack\nFile: pack-bae2103aae6c6aca26c3002a8aeb93c4148caafa.idx\n\nCurrently looking at /Users/thomp/Udemy-Python/.git/objects/45\n\nThe subfolders are: \n\nThe files are: \nFile: 8c5873aeb5c776fe93491083f0701c7d5332b5\n\nCurrently looking at /Users/thomp/Udemy-Python/.git/objects/28\n\nThe subfolders are: \n\nThe files are: \nFile: a47fbccfd23256732369e8f8eb4d1134855b0a\n\nCurrently looking at /Users/thomp/Udemy-Python/.git/objects/8a\n\nThe subfolders are: \n\nThe files are: \nFile: e98f008dd409a6c2c4a41c178d9fe267b9b4a7\n\nCurrently looking at /Users/thomp/Udemy-Python/.git/objects/4d\n\nThe subfolders are: \n\nThe files are: \nFile: c2f150898a3b07740683eebf68efd073596652\n\nCurrently looking at /Users/thomp/Udemy-Python/.git/objects/9f\n\nThe subfolders are: \n\nThe files are: \nFile: 90d1c168eae64125911e60868d5667fa9e90cf\n\nCurrently looking at /Users/thomp/Udemy-Python/.git/objects/6b\n\nThe subfolders are: \n\nThe files are: \nFile: 0cd17f4aa25e12e9439f8c7a3102933ee64a01\n\nCurrently looking at /Users/thomp/Udemy-Python/.git/objects/9a\n\nThe subfolders are: \n\nThe files are: \nFile: f014784aa0c142acca529581eaea15deff5b9c\n\nCurrently looking at /Users/thomp/Udemy-Python/.git/objects/info\n\nThe subfolders are: \n\nThe files are: \n\nCurrently looking at /Users/thomp/Udemy-Python/.git/objects/5e\n\nThe subfolders are: \n\nThe files are: \nFile: 2c6f8ff225f3c7f42c41d402673ad97bddb93f\n\nCurrently looking at /Users/thomp/Udemy-Python/.git/objects/97\n\nThe subfolders are: \n\nThe files are: \nFile: 1c18ac158a202a7eeadf265f926ce07e363945\nFile: 47bd1200145663b52e0a74db8be0ecff63ea86\n\nCurrently looking at /Users/thomp/Udemy-Python/.git/objects/0f\n\nThe subfolders are: \n\nThe files are: \nFile: ba4a6859afe701ce62e6a17813716bc9d113a6\n\nCurrently looking at /Users/thomp/Udemy-Python/.git/objects/a8\n\nThe subfolders are: \n\nThe files are: \nFile: b209f2f110fbf584005041d1355e78591cd99c\n\nCurrently looking at /Users/thomp/Udemy-Python/.git/objects/e1\n\nThe subfolders are: \n\nThe files are: \nFile: 1bffe43efbc4bd08364b7e39220b7f3cc0be13\n\nCurrently looking at /Users/thomp/Udemy-Python/.git/objects/cc\n\nThe subfolders are: \n\nThe files are: \nFile: 482fe2564f6523e9a810378d168f9723513880\n\nCurrently looking at /Users/thomp/Udemy-Python/.git/objects/f7\n\nThe subfolders are: \n\nThe files are: \nFile: aff838ccc9b2c7e83a5f3eaca299d7b33fd078\n\nCurrently looking at /Users/thomp/Udemy-Python/.git/objects/ff\n\nThe subfolders are: \n\nThe files are: \nFile: 4b325af21c541fe0138135db4c1b70b2a31e29\n\nCurrently looking at /Users/thomp/Udemy-Python/.git/objects/f8\n\nThe subfolders are: \n\nThe files are: \nFile: a5642dcee87483ef9b3162d3ed343eaa3eb5e4\n\nCurrently looking at /Users/thomp/Udemy-Python/.git/objects/15\n\nThe subfolders are: \n\nThe files are: \nFile: 6e418aae963ce2423d3ae085c53f0491334e8e\n\nCurrently looking at /Users/thomp/Udemy-Python/.git/objects/14\n\nThe subfolders are: \n\nThe files are: \nFile: 38aad3e38d1b9e54e3cda886d6a6d4f58b97b8\n\nCurrently looking at /Users/thomp/Udemy-Python/.git/info\n\nThe subfolders are: \n\nThe files are: \nFile: exclude\n\nCurrently looking at /Users/thomp/Udemy-Python/.git/logs\n\nThe subfolders are: \nSubfolder: refs\n\nThe files are: \nFile: HEAD\n\nCurrently looking at /Users/thomp/Udemy-Python/.git/logs/refs\n\nThe subfolders are: \nSubfolder: heads\nSubfolder: remotes\n\nThe files are: \n\nCurrently looking at /Users/thomp/Udemy-Python/.git/logs/refs/heads\n\nThe subfolders are: \n\nThe files are: \nFile: master\n\nCurrently looking at /Users/thomp/Udemy-Python/.git/logs/refs/remotes\n\nThe subfolders are: \nSubfolder: learning-python\n\nThe files are: \n\nCurrently looking at /Users/thomp/Udemy-Python/.git/logs/refs/remotes/learning-python\n\nThe subfolders are: \n\nThe files are: \nFile: master\nFile: main\n\nCurrently looking at /Users/thomp/Udemy-Python/.git/hooks\n\nThe subfolders are: \n\nThe files are: \nFile: commit-msg.sample\nFile: pre-rebase.sample\nFile: pre-commit.sample\nFile: applypatch-msg.sample\nFile: fsmonitor-watchman.sample\nFile: pre-receive.sample\nFile: prepare-commit-msg.sample\nFile: post-update.sample\nFile: pre-merge-commit.sample\nFile: pre-applypatch.sample\nFile: pre-push.sample\nFile: update.sample\n\nCurrently looking at /Users/thomp/Udemy-Python/.git/refs\n\nThe subfolders are: \nSubfolder: heads\nSubfolder: tags\nSubfolder: remotes\n\nThe files are: \n\nCurrently looking at /Users/thomp/Udemy-Python/.git/refs/heads\n\nThe subfolders are: \n\nThe files are: \nFile: master\n\nCurrently looking at /Users/thomp/Udemy-Python/.git/refs/tags\n\nThe subfolders are: \n\nThe files are: \n\nCurrently looking at /Users/thomp/Udemy-Python/.git/refs/remotes\n\nThe subfolders are: \nSubfolder: learning-python\n\nThe files are: \n\nCurrently looking at /Users/thomp/Udemy-Python/.git/refs/remotes/learning-python\n\nThe subfolders are: \n\nThe files are: \nFile: master\nFile: main\n\n"
     ]
    }
   ],
   "source": [
    "for folder, subfolders, files in os.walk('/Users/thomp/Udemy-Python/'):\n",
    "    print(f\"Currently looking at {folder}\")\n",
    "    print(\"\")\n",
    "    print(f\"The subfolders are: \")\n",
    "    for subfolder in subfolders:\n",
    "        print(f\"Subfolder: {subfolder}\")\n",
    "    print(\"\")\n",
    "    print(\"The files are: \")\n",
    "    for f in files:\n",
    "        print(f\"File: {f}\")\n",
    "    print(\"\")"
   ]
  },
  {
   "cell_type": "code",
   "execution_count": null,
   "metadata": {},
   "outputs": [],
   "source": []
  }
 ]
}