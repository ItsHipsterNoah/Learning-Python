{
 "metadata": {
  "language_info": {
   "codemirror_mode": {
    "name": "ipython",
    "version": 3
   },
   "file_extension": ".py",
   "mimetype": "text/x-python",
   "name": "python",
   "nbconvert_exporter": "python",
   "pygments_lexer": "ipython3",
   "version": "3.9.0-final"
  },
  "orig_nbformat": 2,
  "kernelspec": {
   "name": "python3",
   "display_name": "Python 3.9.0 64-bit",
   "metadata": {
    "interpreter": {
     "hash": "aee8b7b246df8f9039afb4144a1f6fd8d2ca17a180786b69acc140d282b71a49"
    }
   }
  }
 },
 "nbformat": 4,
 "nbformat_minor": 2,
 "cells": [
  {
   "cell_type": "code",
   "execution_count": 33,
   "metadata": {},
   "outputs": [],
   "source": [
    "def sieve_of_eratosthenes(n):\n",
    "    nums = []\n",
    "    for x in range(2, n+1):\n",
    "        nums.append(x)\n",
    "    p = 2\n",
    "    counter = 0\n",
    "    while (p < n-1):\n",
    "        for i, num in enumerate(nums):\n",
    "            if num % p == 0 and num >= p**2:\n",
    "                nums[i] = -1\n",
    "        p += 1\n",
    "        if (nums[p] == -1):\n",
    "    for num in nums:\n",
    "        if num != -1:\n",
    "            print(num)   "
   ]
  },
  {
   "cell_type": "code",
   "execution_count": 37,
   "metadata": {},
   "outputs": [
    {
     "output_type": "stream",
     "name": "stdout",
     "text": [
      "2\n3\n5\n7\n11\n13\n17\n19\n23\n29\n31\n37\n41\n43\n47\n53\n59\n61\n67\n71\n73\n79\n83\n89\n97\n"
     ]
    }
   ],
   "source": [
    "sieve_of_eratosthenes(100) #Time complexity: O(n^2)"
   ]
  }
 ]
}